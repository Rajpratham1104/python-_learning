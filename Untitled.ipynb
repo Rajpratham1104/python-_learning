{
 "cells": [
  {
   "cell_type": "markdown",
   "id": "e8eb1675-9222-4b78-b5a3-cbfce001667c",
   "metadata": {},
   "source": [
    "# while loop concept"
   ]
  },
  {
   "cell_type": "code",
   "execution_count": 1,
   "id": "ac6ef40b-7949-4b23-96ee-3837b000c9d7",
   "metadata": {},
   "outputs": [
    {
     "name": "stdout",
     "output_type": "stream",
     "text": [
      "hello\n",
      "hi\n",
      "shubham \n"
     ]
    }
   ],
   "source": [
    "while True:\n",
    "    print(\"hello\")\n",
    "    print(\"hi\")\n",
    "    break\n",
    "    print(\"bye\")\n",
    "print (\"shubham \")\n"
   ]
  },
  {
   "cell_type": "code",
   "execution_count": 2,
   "id": "3c670914-4cb0-4a6b-bd66-b81d91d5dec3",
   "metadata": {},
   "outputs": [],
   "source": [
    "i=1"
   ]
  },
  {
   "cell_type": "code",
   "execution_count": 6,
   "id": "b643f91f-9ca6-474c-9e5a-132f9b5ef2a1",
   "metadata": {},
   "outputs": [
    {
     "name": "stdout",
     "output_type": "stream",
     "text": [
      "1\n",
      "2\n",
      "3\n",
      "4\n"
     ]
    }
   ],
   "source": [
    "i=1\n",
    "while True:\n",
    "    print(i)\n",
    "    i+=1\n",
    "    if i==5:\n",
    "        \n",
    "        break"
   ]
  },
  {
   "cell_type": "code",
   "execution_count": 7,
   "id": "40307162-10fc-475a-b684-d2ce0af451e5",
   "metadata": {},
   "outputs": [
    {
     "name": "stdout",
     "output_type": "stream",
     "text": [
      "0\n",
      "1\n",
      "2\n"
     ]
    }
   ],
   "source": [
    "i=0\n",
    "while i<3:\n",
    "    print(i)\n",
    "    i+=1"
   ]
  },
  {
   "cell_type": "code",
   "execution_count": 8,
   "id": "70f42966-4638-4924-bab1-b0176e268975",
   "metadata": {},
   "outputs": [
    {
     "name": "stdout",
     "output_type": "stream",
     "text": [
      "0\n",
      "1\n",
      "2\n",
      "3\n"
     ]
    }
   ],
   "source": [
    "i=0\n",
    "n=4\n",
    "while i<4:\n",
    "    print(i)\n",
    "    i+=1"
   ]
  },
  {
   "cell_type": "code",
   "execution_count": 10,
   "id": "38d42cbb-d93d-475d-b226-2749a952a9b7",
   "metadata": {},
   "outputs": [
    {
     "name": "stdout",
     "output_type": "stream",
     "text": [
      "0\n",
      "5\n",
      "10\n",
      "15\n",
      "20\n",
      "25\n",
      "30\n",
      "35\n",
      "40\n",
      "45\n",
      "50\n"
     ]
    }
   ],
   "source": [
    "i=0\n",
    "n=50\n",
    "while i<=n:\n",
    "    print(i)\n",
    "    i+=5"
   ]
  },
  {
   "cell_type": "code",
   "execution_count": 12,
   "id": "1f9992ce-dc3e-4654-a9cd-d69e82969c01",
   "metadata": {},
   "outputs": [
    {
     "name": "stdout",
     "output_type": "stream",
     "text": [
      "7 x 1 = 7\n",
      "7 x 2 = 14\n",
      "7 x 3 = 21\n",
      "7 x 4 = 28\n",
      "7 x 5 = 35\n",
      "7 x 6 = 42\n",
      "7 x 7 = 49\n",
      "7 x 8 = 56\n",
      "7 x 9 = 63\n",
      "7 x 10 = 70\n"
     ]
    }
   ],
   "source": [
    "i=1\n",
    "n=11\n",
    "while i<n:\n",
    "    print(7,\"x\",i, \"=\",i*7)\n",
    "    i+=1"
   ]
  },
  {
   "cell_type": "code",
   "execution_count": 17,
   "id": "dbd53b6e-2b31-464b-a784-c710f54873dc",
   "metadata": {},
   "outputs": [
    {
     "name": "stdout",
     "output_type": "stream",
     "text": [
      "11 x 1 = 11\n",
      "11 x 2 = 22\n",
      "11 x 3 = 33\n",
      "11 x 4 = 44\n",
      "11 x 5 = 55\n",
      "11 x 6 = 66\n",
      "11 x 7 = 77\n",
      "11 x 8 = 88\n",
      "11 x 9 = 99\n",
      "11 x 10 = 110\n"
     ]
    }
   ],
   "source": [
    "i=1\n",
    "n=11\n",
    "while i<n:\n",
    "    print(11,\"x\",i,\"=\",i*11)\n",
    "    i+=1"
   ]
  },
  {
   "cell_type": "code",
   "execution_count": 24,
   "id": "4e162c33-277f-45b7-80c8-dcb94dba135d",
   "metadata": {},
   "outputs": [
    {
     "name": "stdout",
     "output_type": "stream",
     "text": [
      "0 0\n",
      "1 1\n",
      "2 3\n",
      "3 6\n",
      "4 10\n",
      "5 15\n",
      "15\n"
     ]
    }
   ],
   "source": [
    "# sum of 5 numbers\n",
    "i=0\n",
    "n=6\n",
    "sum=0\n",
    "while i<n:\n",
    "    sum+=i\n",
    "    print(i, sum)\n",
    "    i+=1\n",
    "print(sum)\n"
   ]
  },
  {
   "cell_type": "code",
   "execution_count": 27,
   "id": "d63ec503-a50a-4e1b-ad69-173fe1424fee",
   "metadata": {},
   "outputs": [
    {
     "name": "stdout",
     "output_type": "stream",
     "text": [
      "0 0\n",
      "1 1\n",
      "2 3\n",
      "3 6\n",
      "4 10\n",
      "5 15\n",
      "6 21\n",
      "7 28\n",
      "8 36\n",
      "9 45\n",
      "10 55\n",
      "55\n"
     ]
    }
   ],
   "source": [
    "i=0\n",
    "n=11\n",
    "sum =0\n",
    "while i<n:\n",
    "    sum+=i\n",
    "    print(i, sum)\n",
    "    i+=1\n",
    "print(sum)"
   ]
  },
  {
   "cell_type": "code",
   "execution_count": 29,
   "id": "aa65879b-c10f-4615-8d18-c2167ae74951",
   "metadata": {},
   "outputs": [
    {
     "name": "stdout",
     "output_type": "stream",
     "text": [
      "4615\n"
     ]
    }
   ],
   "source": [
    "i=30\n",
    "n=101\n",
    "sum =0\n",
    "while i<n:\n",
    "    sum+=i\n",
    "    i+=1\n",
    "print(sum)"
   ]
  },
  {
   "cell_type": "code",
   "execution_count": 33,
   "id": "30f86c8e-c210-40f8-b81d-6e234905b53b",
   "metadata": {},
   "outputs": [],
   "source": [
    "name=\"Pratham singh\""
   ]
  },
  {
   "cell_type": "code",
   "execution_count": 41,
   "id": "78a7614d-6557-47ac-85a3-bb96c1bafd3b",
   "metadata": {},
   "outputs": [
    {
     "name": "stdout",
     "output_type": "stream",
     "text": [
      "P\n",
      "r\n",
      "a\n",
      "t\n",
      "h\n",
      "a\n",
      "m\n"
     ]
    }
   ],
   "source": [
    "name=\"Pratham\"\n",
    "i=0\n",
    "n=len(name)\n",
    "while i<n:\n",
    "    print(name[i])\n",
    "    i+=1\n"
   ]
  },
  {
   "cell_type": "markdown",
   "id": "2fb3db9b-1d11-42d5-a563-9dcd85220478",
   "metadata": {},
   "source": []
  },
  {
   "cell_type": "code",
   "execution_count": null,
   "id": "8cf2dd23-40d4-4154-8a7f-77c02f776270",
   "metadata": {},
   "outputs": [],
   "source": []
  }
 ],
 "metadata": {
  "kernelspec": {
   "display_name": "Python 3 (ipykernel)",
   "language": "python",
   "name": "python3"
  },
  "language_info": {
   "codemirror_mode": {
    "name": "ipython",
    "version": 3
   },
   "file_extension": ".py",
   "mimetype": "text/x-python",
   "name": "python",
   "nbconvert_exporter": "python",
   "pygments_lexer": "ipython3",
   "version": "3.13.5"
  }
 },
 "nbformat": 4,
 "nbformat_minor": 5
}
