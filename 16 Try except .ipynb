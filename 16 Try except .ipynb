{
 "cells": [
  {
   "cell_type": "code",
   "execution_count": 10,
   "id": "4f35ba26-2856-4f1f-8806-ed49c235097f",
   "metadata": {},
   "outputs": [
    {
     "name": "stdout",
     "output_type": "stream",
     "text": [
      "try again\n"
     ]
    }
   ],
   "source": [
    "# simple try and except function\n",
    "try :\n",
    "    print(hi)\n",
    "    print(5/0)\n",
    "    print(hello)\n",
    "except:\n",
    "    print(\"try again\")\n"
   ]
  },
  {
   "cell_type": "code",
   "execution_count": 7,
   "id": "5d649bd5-6a19-44c0-842c-6ef763ff586a",
   "metadata": {},
   "outputs": [
    {
     "name": "stdout",
     "output_type": "stream",
     "text": [
      "hi\n",
      "5\n",
      "hello\n",
      "helo bhai or baheno\n"
     ]
    }
   ],
   "source": [
    "#try and except function with else commands\n",
    "try :\n",
    "    print(\"hi\")\n",
    "    print(5)\n",
    "    print(\"hello\")\n",
    "except:\n",
    "    print(\"try again\")\n",
    "else:\n",
    "    print( \"helo bhai or baheno\")"
   ]
  },
  {
   "cell_type": "code",
   "execution_count": 11,
   "id": "47e54004-bdcb-4aed-bf07-0412aedffabe",
   "metadata": {},
   "outputs": [
    {
     "name": "stdout",
     "output_type": "stream",
     "text": [
      "hi\n",
      "5\n",
      "hello\n",
      "helo bhai or baheno\n",
      "helo dosto\n"
     ]
    }
   ],
   "source": [
    "# Use of finally command\n",
    "try : \n",
    "    print(\"hi\")\n",
    "    print(5)\n",
    "    print(\"hello\")\n",
    "except:\n",
    "    print(\"try again\")\n",
    "else:\n",
    "    print( \"helo bhai or baheno\")\n",
    "finally:\n",
    "    print(\"helo dosto\")"
   ]
  },
  {
   "cell_type": "code",
   "execution_count": null,
   "id": "8661caa9-7a06-4e90-8888-296b42b06208",
   "metadata": {},
   "outputs": [],
   "source": []
  }
 ],
 "metadata": {
  "kernelspec": {
   "display_name": "Python 3 (ipykernel)",
   "language": "python",
   "name": "python3"
  },
  "language_info": {
   "codemirror_mode": {
    "name": "ipython",
    "version": 3
   },
   "file_extension": ".py",
   "mimetype": "text/x-python",
   "name": "python",
   "nbconvert_exporter": "python",
   "pygments_lexer": "ipython3",
   "version": "3.13.5"
  }
 },
 "nbformat": 4,
 "nbformat_minor": 5
}
