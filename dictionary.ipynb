{
 "cells": [
  {
   "cell_type": "markdown",
   "id": "fa72c1a7-a374-4442-85b6-7a51c7a18da3",
   "metadata": {},
   "source": [
    "# dictionary"
   ]
  },
  {
   "cell_type": "code",
   "execution_count": 4,
   "id": "2841c264-7732-4a54-8aed-9d9ef3a5b4c1",
   "metadata": {},
   "outputs": [],
   "source": [
    "d={\"name\" : \"pratham singh\" , \"age\":21, \"education\": \"cse\"}\n"
   ]
  },
  {
   "cell_type": "code",
   "execution_count": 5,
   "id": "5922aafc-0ee0-4270-b5fd-74630716bce9",
   "metadata": {},
   "outputs": [
    {
     "data": {
      "text/plain": [
       "3"
      ]
     },
     "execution_count": 5,
     "metadata": {},
     "output_type": "execute_result"
    }
   ],
   "source": [
    "len (d)"
   ]
  },
  {
   "cell_type": "code",
   "execution_count": 6,
   "id": "5470b69d-3de1-41dc-8d5d-423392bacc2a",
   "metadata": {},
   "outputs": [
    {
     "data": {
      "text/plain": [
       "dict_keys(['name', 'age', 'education'])"
      ]
     },
     "execution_count": 6,
     "metadata": {},
     "output_type": "execute_result"
    }
   ],
   "source": [
    "d.keys()"
   ]
  },
  {
   "cell_type": "code",
   "execution_count": 8,
   "id": "2c87aa20-a91c-408d-a8e8-4acf18559cba",
   "metadata": {},
   "outputs": [
    {
     "data": {
      "text/plain": [
       "dict_values(['pratham singh', 21, 'cse'])"
      ]
     },
     "execution_count": 8,
     "metadata": {},
     "output_type": "execute_result"
    }
   ],
   "source": [
    "d.values()"
   ]
  },
  {
   "cell_type": "code",
   "execution_count": 12,
   "id": "e9b50817-1963-49ae-a4f1-ac4274f866df",
   "metadata": {},
   "outputs": [],
   "source": [
    "d1={\n",
    "    1:{\"name\":\"romeo\", \"age\":21},2:{\"name\":\"yash\",\"age\":24}, 3:{\"name\":\"akash\", \"age\":23,\n",
    "                                                                \"dog\":['pehla', 'dursa , teesra']}\n",
    "}"
   ]
  },
  {
   "cell_type": "code",
   "execution_count": 14,
   "id": "79d1192a-9302-4bbc-bdf1-22339b4fe229",
   "metadata": {},
   "outputs": [
    {
     "data": {
      "text/plain": [
       "dict"
      ]
     },
     "execution_count": 14,
     "metadata": {},
     "output_type": "execute_result"
    }
   ],
   "source": [
    "type(d1)"
   ]
  },
  {
   "cell_type": "code",
   "execution_count": 15,
   "id": "1c6f5ffb-a7dc-4f12-918d-f11016680821",
   "metadata": {},
   "outputs": [
    {
     "data": {
      "text/plain": [
       "{1: {'name': 'romeo', 'age': 21},\n",
       " 2: {'name': 'yash', 'age': 24},\n",
       " 3: {'name': 'akash', 'age': 23, 'dog': ['pehla', 'dursa , teesra']}}"
      ]
     },
     "execution_count": 15,
     "metadata": {},
     "output_type": "execute_result"
    }
   ],
   "source": [
    "d1"
   ]
  },
  {
   "cell_type": "code",
   "execution_count": 21,
   "id": "400411ae-135d-4c53-b1d7-84b3863ba0da",
   "metadata": {},
   "outputs": [],
   "source": [
    "d1[1]['name']= \"abhi\""
   ]
  },
  {
   "cell_type": "code",
   "execution_count": 22,
   "id": "e8fc9af6-d960-4b58-98aa-424d504d5c23",
   "metadata": {},
   "outputs": [
    {
     "data": {
      "text/plain": [
       "{1: {'name': 'abhi', 'age': 21},\n",
       " 2: {'name': 'yash', 'age': 24},\n",
       " 3: {'name': 'akash', 'age': 23, 'dog': ['pehla', 'dursa , teesra']},\n",
       " 'name': 'abhi'}"
      ]
     },
     "execution_count": 22,
     "metadata": {},
     "output_type": "execute_result"
    }
   ],
   "source": [
    "d1"
   ]
  },
  {
   "cell_type": "markdown",
   "id": "6c3cc999-b977-4bb9-bd0e-21fce093616b",
   "metadata": {},
   "source": [
    "d1[3]"
   ]
  },
  {
   "cell_type": "code",
   "execution_count": 23,
   "id": "5f3b7cd3-1c65-44cf-aea1-0ef8a8bccdbd",
   "metadata": {},
   "outputs": [
    {
     "data": {
      "text/plain": [
       "{'name': 'akash', 'age': 23, 'dog': ['pehla', 'dursa , teesra']}"
      ]
     },
     "execution_count": 23,
     "metadata": {},
     "output_type": "execute_result"
    }
   ],
   "source": [
    "d1[3]"
   ]
  },
  {
   "cell_type": "code",
   "execution_count": 32,
   "id": "62db8e93-ed27-4515-ba77-c6b874f7723c",
   "metadata": {},
   "outputs": [
    {
     "data": {
      "text/plain": [
       "{1: {'name': 'abhi', 'age': 21},\n",
       " 2: {'name': 'yash', 'age': 24},\n",
       " 3: {'name': 'akash', 'age': 23, 'dog': ['pehla', 'dursa , teesra']},\n",
       " 'name': 'abhi'}"
      ]
     },
     "execution_count": 32,
     "metadata": {},
     "output_type": "execute_result"
    }
   ],
   "source": [
    "d1"
   ]
  },
  {
   "cell_type": "code",
   "execution_count": 33,
   "id": "3d7bf49d-07dc-4e94-950e-5398e9627074",
   "metadata": {},
   "outputs": [
    {
     "data": {
      "text/plain": [
       "dict_keys([1, 2, 3, 'name'])"
      ]
     },
     "execution_count": 33,
     "metadata": {},
     "output_type": "execute_result"
    }
   ],
   "source": [
    "d1.keys()"
   ]
  },
  {
   "cell_type": "code",
   "execution_count": 37,
   "id": "b0a36a12-5244-4c5f-bbb8-6a8561e6094c",
   "metadata": {},
   "outputs": [
    {
     "data": {
      "text/plain": [
       "'dursa , teesra'"
      ]
     },
     "execution_count": 37,
     "metadata": {},
     "output_type": "execute_result"
    }
   ],
   "source": [
    "d1[3]['dog'][1]"
   ]
  },
  {
   "cell_type": "markdown",
   "id": "3b3e96b4-a427-4d4f-ba35-13c48844d1c9",
   "metadata": {},
   "source": [
    "# SET"
   ]
  },
  {
   "cell_type": "code",
   "execution_count": 38,
   "id": "5b9d36b5-7286-42f2-8df1-14d52b818f84",
   "metadata": {},
   "outputs": [],
   "source": [
    "a={1,1,3,2,4,3,5,5,7,8,8,8,8,9,9,9,5,}"
   ]
  },
  {
   "cell_type": "code",
   "execution_count": 39,
   "id": "8af7a137-dbc8-47d8-8684-e5c4cf0f8eee",
   "metadata": {},
   "outputs": [
    {
     "data": {
      "text/plain": [
       "{1, 2, 3, 4, 5, 7, 8, 9}"
      ]
     },
     "execution_count": 39,
     "metadata": {},
     "output_type": "execute_result"
    }
   ],
   "source": [
    "a"
   ]
  },
  {
   "cell_type": "code",
   "execution_count": 40,
   "id": "3909785b-b8c3-4eef-990e-556fb5d9d2bb",
   "metadata": {},
   "outputs": [],
   "source": [
    "a={1,2,3}"
   ]
  },
  {
   "cell_type": "code",
   "execution_count": 41,
   "id": "245e70a2-2765-46a0-9643-788745470f3f",
   "metadata": {},
   "outputs": [],
   "source": [
    "b={2,3}"
   ]
  },
  {
   "cell_type": "code",
   "execution_count": 42,
   "id": "dd41ada7-3eb7-4af2-90ed-9a629293e16c",
   "metadata": {},
   "outputs": [
    {
     "data": {
      "text/plain": [
       "True"
      ]
     },
     "execution_count": 42,
     "metadata": {},
     "output_type": "execute_result"
    }
   ],
   "source": [
    "a.issuperset(b)"
   ]
  },
  {
   "cell_type": "code",
   "execution_count": null,
   "id": "f4a6bab8-8867-41b4-9520-8a8c0d7c6048",
   "metadata": {},
   "outputs": [],
   "source": []
  }
 ],
 "metadata": {
  "kernelspec": {
   "display_name": "Python 3 (ipykernel)",
   "language": "python",
   "name": "python3"
  },
  "language_info": {
   "codemirror_mode": {
    "name": "ipython",
    "version": 3
   },
   "file_extension": ".py",
   "mimetype": "text/x-python",
   "name": "python",
   "nbconvert_exporter": "python",
   "pygments_lexer": "ipython3",
   "version": "3.13.5"
  }
 },
 "nbformat": 4,
 "nbformat_minor": 5
}
