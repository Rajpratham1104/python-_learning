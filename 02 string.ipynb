{
 "cells": [
  {
   "cell_type": "markdown",
   "id": "26f38ee3-f680-479c-943c-ae5b2778013e",
   "metadata": {},
   "source": [
    "# Working with numbers"
   ]
  },
  {
   "cell_type": "code",
   "execution_count": 1,
   "id": "dde39e82-43ae-43b4-ba80-148d3eac1c63",
   "metadata": {},
   "outputs": [
    {
     "data": {
      "text/plain": [
       "10"
      ]
     },
     "execution_count": 1,
     "metadata": {},
     "output_type": "execute_result"
    }
   ],
   "source": [
    "5+5\n"
   ]
  },
  {
   "cell_type": "code",
   "execution_count": 2,
   "id": "0288ded6-e14a-4b64-90e5-aa9c391e121a",
   "metadata": {},
   "outputs": [],
   "source": [
    "name = \"udam singh\""
   ]
  },
  {
   "cell_type": "code",
   "execution_count": 3,
   "id": "00ea5b63-22e8-48b0-8076-42a0fbd68376",
   "metadata": {},
   "outputs": [],
   "source": [
    "salary=1234567890\n"
   ]
  },
  {
   "cell_type": "code",
   "execution_count": 4,
   "id": "4cbb1003-f687-4a41-be00-2525b4375a71",
   "metadata": {},
   "outputs": [],
   "source": [
    "tax= 12/100"
   ]
  },
  {
   "cell_type": "code",
   "execution_count": 5,
   "id": "b3de4ce8-6104-42b9-96c4-8052b2fa1d4f",
   "metadata": {},
   "outputs": [],
   "source": [
    "amount = salary*tax"
   ]
  },
  {
   "cell_type": "code",
   "execution_count": 7,
   "id": "81dbd267-5676-41ab-adc7-49eeb70d3a7c",
   "metadata": {},
   "outputs": [
    {
     "data": {
      "text/plain": [
       "3.142857142857143"
      ]
     },
     "execution_count": 7,
     "metadata": {},
     "output_type": "execute_result"
    }
   ],
   "source": [
    "22/7"
   ]
  },
  {
   "cell_type": "markdown",
   "id": "2cd6cd3c-4fb0-418c-aa86-d3687060176d",
   "metadata": {},
   "source": [
    "# Working with varible "
   ]
  },
  {
   "cell_type": "code",
   "execution_count": 8,
   "id": "9be2dc5b-2346-4847-ae40-fc958fc9fd68",
   "metadata": {},
   "outputs": [],
   "source": [
    "a = 50"
   ]
  },
  {
   "cell_type": "code",
   "execution_count": 9,
   "id": "6a1b5344-b9ad-45b1-81d7-96ea9343d14b",
   "metadata": {},
   "outputs": [
    {
     "data": {
      "text/plain": [
       "50"
      ]
     },
     "execution_count": 9,
     "metadata": {},
     "output_type": "execute_result"
    }
   ],
   "source": [
    "a"
   ]
  },
  {
   "cell_type": "code",
   "execution_count": 10,
   "id": "5488ebf1-d089-45c2-89e4-5aaacd480b86",
   "metadata": {},
   "outputs": [],
   "source": [
    "a=50.9"
   ]
  },
  {
   "cell_type": "code",
   "execution_count": 11,
   "id": "3ead713e-70b3-4fa6-bf08-11301ca73bbb",
   "metadata": {},
   "outputs": [
    {
     "data": {
      "text/plain": [
       "50.9"
      ]
     },
     "execution_count": 11,
     "metadata": {},
     "output_type": "execute_result"
    }
   ],
   "source": [
    "a"
   ]
  },
  {
   "cell_type": "raw",
   "id": "c2547384-3eb7-4ccd-9ab8-eaf8d9282b60",
   "metadata": {},
   "source": [
    "In varible  we can use % $ @ 123456789  and spacing is not allowed in this \n"
   ]
  },
  {
   "cell_type": "code",
   "execution_count": 12,
   "id": "e416b7b7-5c29-4f39-8640-390b5a2d7450",
   "metadata": {},
   "outputs": [
    {
     "ename": "SyntaxError",
     "evalue": "invalid syntax (4111065614.py, line 1)",
     "output_type": "error",
     "traceback": [
      "\u001b[1;36m  Cell \u001b[1;32mIn[12], line 1\u001b[1;36m\u001b[0m\n\u001b[1;33m    roll no =8737\u001b[0m\n\u001b[1;37m         ^\u001b[0m\n\u001b[1;31mSyntaxError\u001b[0m\u001b[1;31m:\u001b[0m invalid syntax\n"
     ]
    }
   ],
   "source": [
    "#space is not allowed in this varible \n",
    "roll no =8737"
   ]
  },
  {
   "cell_type": "code",
   "execution_count": 13,
   "id": "09a17207-a8d0-4a8e-b5c0-8e3cbc7b00bf",
   "metadata": {},
   "outputs": [
    {
     "ename": "SyntaxError",
     "evalue": "invalid decimal literal (3666153248.py, line 1)",
     "output_type": "error",
     "traceback": [
      "\u001b[1;36m  Cell \u001b[1;32mIn[13], line 1\u001b[1;36m\u001b[0m\n\u001b[1;33m    1rollno =8737\u001b[0m\n\u001b[1;37m    ^\u001b[0m\n\u001b[1;31mSyntaxError\u001b[0m\u001b[1;31m:\u001b[0m invalid decimal literal\n"
     ]
    }
   ],
   "source": [
    "#number before  any varible is not allowed \n",
    "1rollno =8737"
   ]
  },
  {
   "cell_type": "code",
   "execution_count": 14,
   "id": "0fbbd6b3-feb7-4b40-b22e-9dd15bdcd7fd",
   "metadata": {},
   "outputs": [],
   "source": [
    "#snake casing \n",
    "roll_no= 8737"
   ]
  },
  {
   "cell_type": "code",
   "execution_count": 20,
   "id": "1708e559-c12f-466f-aa1e-1d2c298d685a",
   "metadata": {},
   "outputs": [
    {
     "name": "stdout",
     "output_type": "stream",
     "text": [
      "8737\n"
     ]
    }
   ],
   "source": [
    "print (roll_no)"
   ]
  },
  {
   "cell_type": "code",
   "execution_count": 21,
   "id": "c3621570-9548-4799-bbb6-784bbd8def5e",
   "metadata": {},
   "outputs": [],
   "source": [
    "# camel casing \n",
    "RollNo=8737"
   ]
  },
  {
   "cell_type": "code",
   "execution_count": 22,
   "id": "93ba7c2d-dd32-404b-892e-a44a78debf47",
   "metadata": {},
   "outputs": [
    {
     "name": "stdout",
     "output_type": "stream",
     "text": [
      "8737\n"
     ]
    }
   ],
   "source": [
    "print(RollNo)"
   ]
  },
  {
   "cell_type": "code",
   "execution_count": 23,
   "id": "f10874cd-4f76-4547-b1bc-5501ae7cc154",
   "metadata": {},
   "outputs": [],
   "source": [
    "# python is case sensitive language\n",
    "a=20"
   ]
  },
  {
   "cell_type": "code",
   "execution_count": 24,
   "id": "0f5883ec-012a-414d-a56f-7736b4bb8797",
   "metadata": {},
   "outputs": [
    {
     "name": "stdout",
     "output_type": "stream",
     "text": [
      "20\n"
     ]
    }
   ],
   "source": [
    "print(a)"
   ]
  },
  {
   "cell_type": "code",
   "execution_count": 25,
   "id": "321b4cbd-239e-453d-960e-5d910fb2245c",
   "metadata": {},
   "outputs": [],
   "source": [
    "A=30"
   ]
  },
  {
   "cell_type": "code",
   "execution_count": 26,
   "id": "7b5a458c-10c8-4067-958b-bf26c0b35e47",
   "metadata": {},
   "outputs": [
    {
     "data": {
      "text/plain": [
       "30"
      ]
     },
     "execution_count": 26,
     "metadata": {},
     "output_type": "execute_result"
    }
   ],
   "source": [
    "A"
   ]
  },
  {
   "cell_type": "code",
   "execution_count": 27,
   "id": "7d97f844-59ad-47f6-a48e-fbf19407218c",
   "metadata": {},
   "outputs": [
    {
     "ename": "NameError",
     "evalue": "name 'p' is not defined",
     "output_type": "error",
     "traceback": [
      "\u001b[1;31m---------------------------------------------------------------------------\u001b[0m",
      "\u001b[1;31mNameError\u001b[0m                                 Traceback (most recent call last)",
      "Cell \u001b[1;32mIn[27], line 2\u001b[0m\n\u001b[0;32m      1\u001b[0m \u001b[38;5;66;03m# If varible doesn't exist than we get a name error\u001b[39;00m\n\u001b[1;32m----> 2\u001b[0m p\n",
      "\u001b[1;31mNameError\u001b[0m: name 'p' is not defined"
     ]
    }
   ],
   "source": [
    "# If varible doesn't exist than we get a name error\n",
    "p"
   ]
  },
  {
   "cell_type": "code",
   "execution_count": 28,
   "id": "5cca54b6-e71e-485f-b41c-59aa43c2534f",
   "metadata": {},
   "outputs": [],
   "source": [
    "n= 10"
   ]
  },
  {
   "cell_type": "code",
   "execution_count": 29,
   "id": "527eb9c6-c189-4ad2-9c18-b7922c206d81",
   "metadata": {},
   "outputs": [
    {
     "data": {
      "text/plain": [
       "10"
      ]
     },
     "execution_count": 29,
     "metadata": {},
     "output_type": "execute_result"
    }
   ],
   "source": [
    "n"
   ]
  },
  {
   "cell_type": "code",
   "execution_count": 30,
   "id": "e288f36a-d015-4adb-8ee9-05e26e57d11e",
   "metadata": {},
   "outputs": [],
   "source": [
    "n=5"
   ]
  },
  {
   "cell_type": "code",
   "execution_count": 31,
   "id": "8577392a-706b-4c85-b035-9f887c250cba",
   "metadata": {},
   "outputs": [
    {
     "data": {
      "text/plain": [
       "5"
      ]
     },
     "execution_count": 31,
     "metadata": {},
     "output_type": "execute_result"
    }
   ],
   "source": [
    "n"
   ]
  },
  {
   "cell_type": "code",
   "execution_count": 33,
   "id": "25efb326-827e-4991-831b-8e092e10edd2",
   "metadata": {},
   "outputs": [],
   "source": [
    "n=80\n"
   ]
  },
  {
   "cell_type": "code",
   "execution_count": 34,
   "id": "39e610b1-d1cb-403f-95dc-cc6a689a2338",
   "metadata": {},
   "outputs": [
    {
     "data": {
      "text/plain": [
       "80"
      ]
     },
     "execution_count": 34,
     "metadata": {},
     "output_type": "execute_result"
    }
   ],
   "source": [
    "n"
   ]
  },
  {
   "cell_type": "code",
   "execution_count": 35,
   "id": "de832a79-018f-4382-a27a-a546b3373580",
   "metadata": {},
   "outputs": [
    {
     "data": {
      "text/plain": [
       "17"
      ]
     },
     "execution_count": 35,
     "metadata": {},
     "output_type": "execute_result"
    }
   ],
   "source": [
    "35//2"
   ]
  },
  {
   "cell_type": "code",
   "execution_count": 38,
   "id": "22529bd0-83ff-4875-a3e5-964ac5d9a78f",
   "metadata": {},
   "outputs": [
    {
     "data": {
      "text/plain": [
       "11"
      ]
     },
     "execution_count": 38,
     "metadata": {},
     "output_type": "execute_result"
    }
   ],
   "source": [
    "# flow division \n",
    "35//3"
   ]
  },
  {
   "cell_type": "code",
   "execution_count": 37,
   "id": "fb8b365a-7280-41bc-9ff2-82731e02c47f",
   "metadata": {},
   "outputs": [
    {
     "data": {
      "text/plain": [
       "11.666666666666666"
      ]
     },
     "execution_count": 37,
     "metadata": {},
     "output_type": "execute_result"
    }
   ],
   "source": [
    "35/3"
   ]
  },
  {
   "cell_type": "code",
   "execution_count": 39,
   "id": "bbf9a6ba-308c-4483-8536-6b5251461844",
   "metadata": {},
   "outputs": [
    {
     "data": {
      "text/plain": [
       "1"
      ]
     },
     "execution_count": 39,
     "metadata": {},
     "output_type": "execute_result"
    }
   ],
   "source": [
    "# to get the reminder\n",
    "22%7"
   ]
  },
  {
   "cell_type": "code",
   "execution_count": 40,
   "id": "d5fc47ba-e5b8-4317-85c5-f54ee4cbfcf4",
   "metadata": {},
   "outputs": [],
   "source": [
    "amount =6"
   ]
  },
  {
   "cell_type": "code",
   "execution_count": 41,
   "id": "00d67ff1-b053-4439-9c21-242b582c47df",
   "metadata": {},
   "outputs": [
    {
     "data": {
      "text/plain": [
       "8"
      ]
     },
     "execution_count": 41,
     "metadata": {},
     "output_type": "execute_result"
    }
   ],
   "source": [
    "amount+2"
   ]
  },
  {
   "cell_type": "code",
   "execution_count": 42,
   "id": "825eb6b2-dd95-48df-91c4-005630f7170b",
   "metadata": {},
   "outputs": [
    {
     "data": {
      "text/plain": [
       "18"
      ]
     },
     "execution_count": 42,
     "metadata": {},
     "output_type": "execute_result"
    }
   ],
   "source": [
    "amount *3"
   ]
  },
  {
   "cell_type": "code",
   "execution_count": 43,
   "id": "bf75992d-102d-4740-b59e-85b3775a0de7",
   "metadata": {},
   "outputs": [
    {
     "data": {
      "text/plain": [
       "6"
      ]
     },
     "execution_count": 43,
     "metadata": {},
     "output_type": "execute_result"
    }
   ],
   "source": [
    "amount"
   ]
  },
  {
   "cell_type": "code",
   "execution_count": 49,
   "id": "1856ad81-b0b2-4e65-b197-4f9fd1d48c37",
   "metadata": {},
   "outputs": [],
   "source": [
    "amount=amount+5"
   ]
  },
  {
   "cell_type": "code",
   "execution_count": 50,
   "id": "1c81efb6-4eb1-47be-a3c6-bef54d78a4b6",
   "metadata": {},
   "outputs": [
    {
     "data": {
      "text/plain": [
       "26"
      ]
     },
     "execution_count": 50,
     "metadata": {},
     "output_type": "execute_result"
    }
   ],
   "source": [
    "amount"
   ]
  },
  {
   "cell_type": "markdown",
   "id": "7b5f32aa-11dc-4916-b3bf-c70b8d5aa596",
   "metadata": {},
   "source": [
    "## Assignment operations:"
   ]
  },
  {
   "cell_type": "code",
   "execution_count": 51,
   "id": "e93ad865-55e3-41a7-a974-18bd0e5991b0",
   "metadata": {},
   "outputs": [],
   "source": [
    "a=10"
   ]
  },
  {
   "cell_type": "code",
   "execution_count": 52,
   "id": "c3fc4171-4429-49f5-b29e-dd36d24b31e5",
   "metadata": {},
   "outputs": [],
   "source": [
    "a=a+5"
   ]
  },
  {
   "cell_type": "code",
   "execution_count": 53,
   "id": "bdfca739-e86a-4426-8aa1-9cf065b0b286",
   "metadata": {},
   "outputs": [
    {
     "data": {
      "text/plain": [
       "15"
      ]
     },
     "execution_count": 53,
     "metadata": {},
     "output_type": "execute_result"
    }
   ],
   "source": [
    "a"
   ]
  },
  {
   "cell_type": "code",
   "execution_count": 54,
   "id": "5207c703-1d15-4ee0-b3b7-16d39b480e55",
   "metadata": {},
   "outputs": [],
   "source": [
    "a-=5"
   ]
  },
  {
   "cell_type": "code",
   "execution_count": 55,
   "id": "e446c1de-671b-462e-b81c-72fbdc54e7c6",
   "metadata": {},
   "outputs": [
    {
     "data": {
      "text/plain": [
       "10"
      ]
     },
     "execution_count": 55,
     "metadata": {},
     "output_type": "execute_result"
    }
   ],
   "source": [
    "a"
   ]
  },
  {
   "cell_type": "code",
   "execution_count": 56,
   "id": "e58438ab-e5bb-4777-a520-3619f9bcb66f",
   "metadata": {},
   "outputs": [],
   "source": [
    "a*=5"
   ]
  },
  {
   "cell_type": "code",
   "execution_count": 57,
   "id": "bcd2f7fe-2c9e-4beb-ad76-dd44db5d3f8b",
   "metadata": {},
   "outputs": [
    {
     "data": {
      "text/plain": [
       "50"
      ]
     },
     "execution_count": 57,
     "metadata": {},
     "output_type": "execute_result"
    }
   ],
   "source": [
    "a"
   ]
  },
  {
   "cell_type": "code",
   "execution_count": 58,
   "id": "128fb080-b929-4560-be52-3e5548244807",
   "metadata": {},
   "outputs": [],
   "source": [
    "a/=2"
   ]
  },
  {
   "cell_type": "code",
   "execution_count": 59,
   "id": "0505b845-2b14-421c-895a-b01e2021a7df",
   "metadata": {},
   "outputs": [
    {
     "data": {
      "text/plain": [
       "25.0"
      ]
     },
     "execution_count": 59,
     "metadata": {},
     "output_type": "execute_result"
    }
   ],
   "source": [
    "a"
   ]
  },
  {
   "cell_type": "code",
   "execution_count": 60,
   "id": "f9e303cf-1496-4d2d-9be4-ac45a6a96ac1",
   "metadata": {},
   "outputs": [],
   "source": [
    "a**=2"
   ]
  },
  {
   "cell_type": "code",
   "execution_count": 61,
   "id": "d08aa100-6f08-42f0-b1ec-c463ecc3f5f6",
   "metadata": {},
   "outputs": [
    {
     "data": {
      "text/plain": [
       "625.0"
      ]
     },
     "execution_count": 61,
     "metadata": {},
     "output_type": "execute_result"
    }
   ],
   "source": [
    "a"
   ]
  },
  {
   "cell_type": "markdown",
   "id": "2e7e77da-dce6-4f15-9793-88f6999f4c8c",
   "metadata": {},
   "source": [
    "## data type "
   ]
  },
  {
   "cell_type": "code",
   "execution_count": 65,
   "id": "71a7b9d1-1df2-4b04-9803-93e9177324ee",
   "metadata": {},
   "outputs": [
    {
     "data": {
      "text/plain": [
       "'ABC.'"
      ]
     },
     "execution_count": 65,
     "metadata": {},
     "output_type": "execute_result"
    }
   ],
   "source": [
    "# capitalise , upper , lower , count\n",
    "\"abc.\".upper()"
   ]
  },
  {
   "cell_type": "code",
   "execution_count": 66,
   "id": "3ba3ced8-2331-4c2d-8390-550860cf0a70",
   "metadata": {},
   "outputs": [
    {
     "data": {
      "text/plain": [
       "'abc'"
      ]
     },
     "execution_count": 66,
     "metadata": {},
     "output_type": "execute_result"
    }
   ],
   "source": [
    "\"ABC\".lower()"
   ]
  },
  {
   "cell_type": "code",
   "execution_count": 69,
   "id": "a59d5129-9ed3-473c-a762-97ae4ab8ee7a",
   "metadata": {},
   "outputs": [
    {
     "data": {
      "text/plain": [
       "1"
      ]
     },
     "execution_count": 69,
     "metadata": {},
     "output_type": "execute_result"
    }
   ],
   "source": [
    "\"abc\".count(\"c\")"
   ]
  },
  {
   "cell_type": "code",
   "execution_count": 70,
   "id": "5217b8f3-76b9-4ab2-beac-3b1112c84366",
   "metadata": {},
   "outputs": [
    {
     "data": {
      "text/plain": [
       "4"
      ]
     },
     "execution_count": 70,
     "metadata": {},
     "output_type": "execute_result"
    }
   ],
   "source": [
    "name =\"pratham singh\"\n",
    "name.find('h')"
   ]
  },
  {
   "cell_type": "code",
   "execution_count": 71,
   "id": "8957648d-a81f-4d89-9f51-3a63c91e0a80",
   "metadata": {},
   "outputs": [
    {
     "data": {
      "text/plain": [
       "13"
      ]
     },
     "execution_count": 71,
     "metadata": {},
     "output_type": "execute_result"
    }
   ],
   "source": [
    "len(name)"
   ]
  },
  {
   "cell_type": "code",
   "execution_count": 75,
   "id": "1772531e-cc44-477c-bc55-1dc849b1dd3a",
   "metadata": {},
   "outputs": [],
   "source": [
    "first_name= \"pratham\""
   ]
  },
  {
   "cell_type": "code",
   "execution_count": 76,
   "id": "07927f19-7f4c-4744-a225-c9fa60e412b2",
   "metadata": {},
   "outputs": [],
   "source": [
    "last_name=\"singh\""
   ]
  },
  {
   "cell_type": "code",
   "execution_count": 78,
   "id": "d943c513-d64c-4213-b540-0bac64d52601",
   "metadata": {},
   "outputs": [
    {
     "data": {
      "text/plain": [
       "'pratham singh'"
      ]
     },
     "execution_count": 78,
     "metadata": {},
     "output_type": "execute_result"
    }
   ],
   "source": [
    "first_name+\" \"+last_name"
   ]
  },
  {
   "cell_type": "code",
   "execution_count": 79,
   "id": "757c44ba-7f9b-4904-96d3-7a9cb7c76b53",
   "metadata": {},
   "outputs": [],
   "source": [
    "name=\"pratham singh\"\n",
    "salary= 80000"
   ]
  },
  {
   "cell_type": "code",
   "execution_count": 80,
   "id": "41313f24-1a5d-4c25-8f04-5237f2581109",
   "metadata": {},
   "outputs": [
    {
     "data": {
      "text/plain": [
       "'hi my name is pratham singh'"
      ]
     },
     "execution_count": 80,
     "metadata": {},
     "output_type": "execute_result"
    }
   ],
   "source": [
    "\"hi my name is \"+name "
   ]
  },
  {
   "cell_type": "code",
   "execution_count": 82,
   "id": "103661e1-bc6b-4fda-8eb1-33128d7066aa",
   "metadata": {},
   "outputs": [
    {
     "ename": "TypeError",
     "evalue": "can only concatenate str (not \"int\") to str",
     "output_type": "error",
     "traceback": [
      "\u001b[1;31m---------------------------------------------------------------------------\u001b[0m",
      "\u001b[1;31mTypeError\u001b[0m                                 Traceback (most recent call last)",
      "Cell \u001b[1;32mIn[82], line 1\u001b[0m\n\u001b[1;32m----> 1\u001b[0m \u001b[38;5;124m\"\u001b[39m\u001b[38;5;124m my salary is \u001b[39m\u001b[38;5;124m\"\u001b[39m\u001b[38;5;241m+\u001b[39msalary\n",
      "\u001b[1;31mTypeError\u001b[0m: can only concatenate str (not \"int\") to str"
     ]
    }
   ],
   "source": [
    "\" my salary is \"+salary"
   ]
  },
  {
   "cell_type": "code",
   "execution_count": 83,
   "id": "95470f6d-612d-4956-b7eb-eb2a5554f775",
   "metadata": {},
   "outputs": [
    {
     "data": {
      "text/plain": [
       "'hi my name is abhi and my salary is 80000'"
      ]
     },
     "execution_count": 83,
     "metadata": {},
     "output_type": "execute_result"
    }
   ],
   "source": [
    "\"hi my name is {} and my salary is {}\".format('abhi', 80000)"
   ]
  },
  {
   "cell_type": "code",
   "execution_count": 84,
   "id": "1b28d816-72ec-44d3-b9c3-223379ca4350",
   "metadata": {},
   "outputs": [
    {
     "data": {
      "text/plain": [
       "' hi my name is pratham singh and my salary is 100000 . i am very  inteligent'"
      ]
     },
     "execution_count": 84,
     "metadata": {},
     "output_type": "execute_result"
    }
   ],
   "source": [
    "\" hi my name is {0} and my salary is {1} . i am very  {2}\".format('pratham singh',100000,'inteligent' )\n"
   ]
  },
  {
   "cell_type": "code",
   "execution_count": 85,
   "id": "9c517e18-36d5-471a-9a08-5e7bc7108ac3",
   "metadata": {},
   "outputs": [],
   "source": [
    "name='pratham singh'\n",
    "age= 21\n",
    "salary= 100000\n",
    "place='chd'\n"
   ]
  },
  {
   "cell_type": "code",
   "execution_count": 87,
   "id": "4b0ab1cb-31e3-448d-9678-c9dd48e4d762",
   "metadata": {},
   "outputs": [
    {
     "data": {
      "text/plain": [
       "'hi my name is pratham singh, my age is 21, my salary is 100000, i live in chd'"
      ]
     },
     "execution_count": 87,
     "metadata": {},
     "output_type": "execute_result"
    }
   ],
   "source": [
    "f'hi my name is {name}, my age is {age}, my salary is {salary}, i live in {place}'"
   ]
  },
  {
   "cell_type": "code",
   "execution_count": 90,
   "id": "3907fe82-11a7-4a4c-ba64-1409c09b4215",
   "metadata": {},
   "outputs": [
    {
     "data": {
      "text/plain": [
       "['pratham', 'singh']"
      ]
     },
     "execution_count": 90,
     "metadata": {},
     "output_type": "execute_result"
    }
   ],
   "source": [
    "\"pratham singh\".split()"
   ]
  },
  {
   "cell_type": "code",
   "execution_count": 92,
   "id": "58a19596-2fc5-4305-af1c-150b5dddd395",
   "metadata": {},
   "outputs": [
    {
     "data": {
      "text/plain": [
       "['2025', '07', '25']"
      ]
     },
     "execution_count": 92,
     "metadata": {},
     "output_type": "execute_result"
    }
   ],
   "source": [
    "\"2025-07-25\" . split(\"-\")"
   ]
  },
  {
   "cell_type": "code",
   "execution_count": 93,
   "id": "d1a32c0a-98ec-4a87-891b-24dcdfc214f3",
   "metadata": {},
   "outputs": [
    {
     "data": {
      "text/plain": [
       "'pratham singh'"
      ]
     },
     "execution_count": 93,
     "metadata": {},
     "output_type": "execute_result"
    }
   ],
   "source": [
    "\" pratham singh \". strip()"
   ]
  },
  {
   "cell_type": "code",
   "execution_count": 94,
   "id": "09a275f8-01df-4992-b65d-041693ed66c9",
   "metadata": {},
   "outputs": [
    {
     "data": {
      "text/plain": [
       "'s8ub8am sing8'"
      ]
     },
     "execution_count": 94,
     "metadata": {},
     "output_type": "execute_result"
    }
   ],
   "source": [
    "\"shubham singh\". replace(\"h\", \"8\", 3)"
   ]
  },
  {
   "cell_type": "code",
   "execution_count": 95,
   "id": "2b6588c8-3173-4576-8092-8512a295ca86",
   "metadata": {},
   "outputs": [],
   "source": [
    "name= \"pratham singh\"\n"
   ]
  },
  {
   "cell_type": "code",
   "execution_count": 96,
   "id": "27cb8328-3f46-4fa8-a9ff-5e263b3b4082",
   "metadata": {},
   "outputs": [
    {
     "data": {
      "text/plain": [
       "'h'"
      ]
     },
     "execution_count": 96,
     "metadata": {},
     "output_type": "execute_result"
    }
   ],
   "source": [
    "name[4]"
   ]
  },
  {
   "cell_type": "code",
   "execution_count": null,
   "id": "976bbf62-9a2a-42de-8f4b-6418cdbc7664",
   "metadata": {},
   "outputs": [],
   "source": []
  }
 ],
 "metadata": {
  "kernelspec": {
   "display_name": "Python 3 (ipykernel)",
   "language": "python",
   "name": "python3"
  },
  "language_info": {
   "codemirror_mode": {
    "name": "ipython",
    "version": 3
   },
   "file_extension": ".py",
   "mimetype": "text/x-python",
   "name": "python",
   "nbconvert_exporter": "python",
   "pygments_lexer": "ipython3",
   "version": "3.13.5"
  }
 },
 "nbformat": 4,
 "nbformat_minor": 5
}
