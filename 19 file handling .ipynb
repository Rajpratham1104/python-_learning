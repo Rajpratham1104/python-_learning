{
 "cells": [
  {
   "cell_type": "markdown",
   "id": "75f51a97-c34d-429e-b023-dd2196dac207",
   "metadata": {},
   "source": [
    "# file handling "
   ]
  },
  {
   "cell_type": "code",
   "execution_count": 10,
   "id": "630d0bc6-2ae2-4a1c-b83a-c625426eb6c1",
   "metadata": {},
   "outputs": [],
   "source": [
    "myfile = open(\"netmax .txt\", \"r\")"
   ]
  },
  {
   "cell_type": "code",
   "execution_count": 11,
   "id": "b7e532fb-8d9c-47dc-8007-cb7c983d85d6",
   "metadata": {},
   "outputs": [
    {
     "name": "stdout",
     "output_type": "stream",
     "text": [
      "hello dosto kal party haan aa jaana . \n",
      "\n"
     ]
    }
   ],
   "source": [
    "print(myfile.readline())"
   ]
  },
  {
   "cell_type": "code",
   "execution_count": 14,
   "id": "d8510e2c-96ae-4905-a884-72261451939d",
   "metadata": {},
   "outputs": [
    {
     "name": "stdout",
     "output_type": "stream",
     "text": [
      "but mere liye gift leke ana .\n"
     ]
    }
   ],
   "source": [
    "print(myfile.read())"
   ]
  },
  {
   "cell_type": "code",
   "execution_count": 15,
   "id": "5429d902-3c1c-43f7-86a1-abb81857e010",
   "metadata": {},
   "outputs": [],
   "source": [
    "myfile.close()"
   ]
  },
  {
   "cell_type": "code",
   "execution_count": null,
   "id": "fb5403a6-739b-456d-bd52-66982323f8ab",
   "metadata": {},
   "outputs": [],
   "source": []
  }
 ],
 "metadata": {
  "kernelspec": {
   "display_name": "Python 3 (ipykernel)",
   "language": "python",
   "name": "python3"
  },
  "language_info": {
   "codemirror_mode": {
    "name": "ipython",
    "version": 3
   },
   "file_extension": ".py",
   "mimetype": "text/x-python",
   "name": "python",
   "nbconvert_exporter": "python",
   "pygments_lexer": "ipython3",
   "version": "3.13.5"
  }
 },
 "nbformat": 4,
 "nbformat_minor": 5
}
