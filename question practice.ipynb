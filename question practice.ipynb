{
 "cells": [
  {
   "cell_type": "code",
   "execution_count": 1,
   "id": "e853f278-8c72-48c8-b9b4-7974d1623527",
   "metadata": {},
   "outputs": [],
   "source": [
    "name= \"pratham singh\""
   ]
  },
  {
   "cell_type": "code",
   "execution_count": 2,
   "id": "ee588388-bcee-43af-8207-317fc1665517",
   "metadata": {},
   "outputs": [
    {
     "name": "stdout",
     "output_type": "stream",
     "text": [
      "pratham singh\n"
     ]
    }
   ],
   "source": [
    "print (name)"
   ]
  },
  {
   "cell_type": "code",
   "execution_count": 3,
   "id": "876acbc2-07af-4196-bf44-00e008879cb1",
   "metadata": {},
   "outputs": [
    {
     "data": {
      "text/plain": [
       "13"
      ]
     },
     "execution_count": 3,
     "metadata": {},
     "output_type": "execute_result"
    }
   ],
   "source": [
    "len(name)"
   ]
  },
  {
   "cell_type": "code",
   "execution_count": 6,
   "id": "5281d6c5-f910-4261-870d-9997cff7f3b0",
   "metadata": {},
   "outputs": [
    {
     "name": "stdout",
     "output_type": "stream",
     "text": [
      "p\n",
      "r\n",
      "a\n",
      "t\n",
      "h\n",
      "a\n",
      "m\n"
     ]
    }
   ],
   "source": [
    "name=\"pratham\"\n",
    "i=0\n",
    "n=len(name)\n",
    "while i<n:\n",
    "    print(name[i])\n",
    "    i+=1"
   ]
  },
  {
   "cell_type": "code",
   "execution_count": 7,
   "id": "64978a88-02c9-430b-8e79-911315bce644",
   "metadata": {},
   "outputs": [],
   "source": [
    "d={\"name\":\"pratham\", \"age\": 22, \"education\":\"btech\"}"
   ]
  },
  {
   "cell_type": "code",
   "execution_count": 10,
   "id": "48fe59ac-aa65-47c6-9812-565348466f4c",
   "metadata": {},
   "outputs": [
    {
     "ename": "AttributeError",
     "evalue": "'dict' object has no attribute 'key'",
     "output_type": "error",
     "traceback": [
      "\u001b[1;31m---------------------------------------------------------------------------\u001b[0m",
      "\u001b[1;31mAttributeError\u001b[0m                            Traceback (most recent call last)",
      "Cell \u001b[1;32mIn[10], line 4\u001b[0m\n\u001b[0;32m      2\u001b[0m i\u001b[38;5;241m=\u001b[39m\u001b[38;5;241m0\u001b[39m\n\u001b[0;32m      3\u001b[0m n\u001b[38;5;241m=\u001b[39m\u001b[38;5;28mlen\u001b[39m(d)\n\u001b[1;32m----> 4\u001b[0m k\u001b[38;5;241m=\u001b[39m\u001b[38;5;28mlist\u001b[39m(d\u001b[38;5;241m.\u001b[39mkey())\n\u001b[0;32m      5\u001b[0m \u001b[38;5;28;01mwhile\u001b[39;00m i\u001b[38;5;241m<\u001b[39mn:\n\u001b[0;32m      6\u001b[0m     \u001b[38;5;28mprint\u001b[39m(d[k[i]])\n",
      "\u001b[1;31mAttributeError\u001b[0m: 'dict' object has no attribute 'key'"
     ]
    }
   ],
   "source": [
    "d={\"name\":\"pratham\", \"age\": 22, \"education\":\"btech\"}\n",
    "i=0\n",
    "n=len(d)\n",
    "k=list(d.key())\n",
    "while i<n:\n",
    "    print(d[k[i]])\n",
    "    i+=1"
   ]
  },
  {
   "cell_type": "code",
   "execution_count": 11,
   "id": "43181c28-5b67-4bbc-b93c-82652401c960",
   "metadata": {},
   "outputs": [
    {
     "name": "stdout",
     "output_type": "stream",
     "text": [
      "pratham\n",
      "22\n",
      "btech\n"
     ]
    }
   ],
   "source": [
    "d={\"name\":\"pratham\", \"age\": 22, \"education\":\"btech\"}\n",
    "i=0\n",
    "n=len(d)\n",
    "k=list(d.keys())\n",
    "while i<n:\n",
    "    print(d[k[i]])\n",
    "    i+=1"
   ]
  },
  {
   "cell_type": "code",
   "execution_count": 12,
   "id": "172654d1-5111-4ac2-96cc-ec254e2f79c7",
   "metadata": {},
   "outputs": [
    {
     "name": "stdout",
     "output_type": "stream",
     "text": [
      "pratham\n",
      "22\n",
      "btech\n"
     ]
    }
   ],
   "source": [
    "d={\"name\":\"pratham\", \"age\": 22, \"education\":\"btech\"}\n",
    "i=0\n",
    "n=len(d)\n",
    "k=list(d.keys())\n",
    "while i<n:\n",
    "    key=k[i]\n",
    "    print(d[key])\n",
    "    i+=1"
   ]
  },
  {
   "cell_type": "code",
   "execution_count": 13,
   "id": "36f36c50-88ba-4616-96cb-c5ec13ea29ef",
   "metadata": {},
   "outputs": [],
   "source": [
    "l=[7,1,4,2,5,9,8,3]"
   ]
  },
  {
   "cell_type": "code",
   "execution_count": 14,
   "id": "a4b411e2-2c61-4d95-828f-5eb33a05d745",
   "metadata": {},
   "outputs": [
    {
     "data": {
      "text/plain": [
       "[7, 1, 4, 2, 5, 9, 8, 3]"
      ]
     },
     "execution_count": 14,
     "metadata": {},
     "output_type": "execute_result"
    }
   ],
   "source": [
    "l"
   ]
  },
  {
   "cell_type": "code",
   "execution_count": 15,
   "id": "fd2ec722-6fe2-483e-aea4-bf820f3eb38e",
   "metadata": {},
   "outputs": [
    {
     "data": {
      "text/plain": [
       "8"
      ]
     },
     "execution_count": 15,
     "metadata": {},
     "output_type": "execute_result"
    }
   ],
   "source": [
    "len(l)"
   ]
  },
  {
   "cell_type": "code",
   "execution_count": 25,
   "id": "b4a4cd71-7b49-42ff-a15e-49661a9b88e7",
   "metadata": {},
   "outputs": [
    {
     "name": "stdout",
     "output_type": "stream",
     "text": [
      "5 9\n"
     ]
    }
   ],
   "source": [
    "#find the maximum number from the given list\n",
    "i=0\n",
    "n=len(l)\n",
    "a=0\n",
    "while i < n :\n",
    "    if l[i]>l[a]:\n",
    "        a=i\n",
    "    i+=1\n",
    "print(a,l[a])"
   ]
  },
  {
   "cell_type": "code",
   "execution_count": 24,
   "id": "32b0b484-94c6-4bf1-b5a1-8952a6abbe24",
   "metadata": {},
   "outputs": [
    {
     "name": "stdout",
     "output_type": "stream",
     "text": [
      "1 1\n"
     ]
    }
   ],
   "source": [
    "#find the minimium number from the given list\n",
    "i=0\n",
    "n=len(l)\n",
    "a=0\n",
    "while i < n :\n",
    "    if l[i]<l[a]:\n",
    "        a=i\n",
    "    i+=1\n",
    "print(a,l[a])"
   ]
  },
  {
   "cell_type": "code",
   "execution_count": 32,
   "id": "f51ebd9f-c46b-452b-be8d-9c09f6578952",
   "metadata": {},
   "outputs": [
    {
     "name": "stdout",
     "output_type": "stream",
     "text": [
      "8 39\n"
     ]
    }
   ],
   "source": [
    "#find the sum of number from the given list\n",
    "i=0\n",
    "n=len(l)\n",
    "sum=0\n",
    "while i < n :\n",
    "    sum+=l[i]\n",
    "\n",
    "    i+=1\n",
    "print(i,sum)\n"
   ]
  },
  {
   "cell_type": "code",
   "execution_count": 31,
   "id": "7e8e4225-a209-4026-af9f-4726576fbd9b",
   "metadata": {},
   "outputs": [
    {
     "name": "stdout",
     "output_type": "stream",
     "text": [
      "7 7\n",
      "1 8\n",
      "4 12\n",
      "2 14\n",
      "5 19\n",
      "9 28\n",
      "8 36\n",
      "3 39\n",
      "39\n"
     ]
    }
   ],
   "source": [
    "i=0\n",
    "n=len(l)\n",
    "sum =0\n",
    "while i<n:\n",
    "    sum+=l[i]\n",
    "    print(l[i], sum)\n",
    "    i+=1\n",
    "print(sum)"
   ]
  },
  {
   "cell_type": "code",
   "execution_count": 33,
   "id": "b3b27136-f2da-4000-9ecc-1d743a0dc3c1",
   "metadata": {},
   "outputs": [],
   "source": [
    "l=[2,44,5,32,65,4,78,96,50,47]"
   ]
  },
  {
   "cell_type": "code",
   "execution_count": 34,
   "id": "dc2c642a-6550-4f91-bd30-a78c34f51298",
   "metadata": {},
   "outputs": [],
   "source": [
    "l.sort()"
   ]
  },
  {
   "cell_type": "code",
   "execution_count": 35,
   "id": "a83e91a7-95bb-4522-83b6-d789d7140062",
   "metadata": {},
   "outputs": [
    {
     "name": "stdout",
     "output_type": "stream",
     "text": [
      "[2, 4, 5, 32, 44, 47, 50, 65, 78, 96]\n"
     ]
    }
   ],
   "source": [
    "print(l)"
   ]
  },
  {
   "cell_type": "code",
   "execution_count": 37,
   "id": "63149da0-32e2-4ceb-aed3-7435edd9fcbf",
   "metadata": {},
   "outputs": [
    {
     "data": {
      "text/plain": [
       "47"
      ]
     },
     "execution_count": 37,
     "metadata": {},
     "output_type": "execute_result"
    }
   ],
   "source": [
    "l[len(l)//2]"
   ]
  },
  {
   "cell_type": "code",
   "execution_count": 39,
   "id": "33b0c013-be40-48dc-83e1-fa5a581df7d4",
   "metadata": {},
   "outputs": [
    {
     "name": "stdout",
     "output_type": "stream",
     "text": [
      "[2, 4, 5, 32, 44, 47, 50, 65, 78, 96]\n"
     ]
    },
    {
     "data": {
      "text/plain": [
       "47"
      ]
     },
     "execution_count": 39,
     "metadata": {},
     "output_type": "execute_result"
    }
   ],
   "source": [
    "#find the middle one number from list\n",
    "l=[2,44,5,32,65,4,78,96,50,47]\n",
    "l.sort()\n",
    "print(l)\n",
    "l[len(l)//2]"
   ]
  },
  {
   "cell_type": "code",
   "execution_count": 40,
   "id": "4b780df4-98ca-41d7-abf5-0e61b33e16a3",
   "metadata": {},
   "outputs": [],
   "source": [
    "# homework:\n",
    "# To find the first largest and second largest number"
   ]
  },
  {
   "cell_type": "code",
   "execution_count": 44,
   "id": "fe24ebd1-b53d-4093-b0c1-73797067d93e",
   "metadata": {},
   "outputs": [
    {
     "name": "stdout",
     "output_type": "stream",
     "text": [
      "29 is a prime number\n"
     ]
    }
   ],
   "source": [
    "n=29\n",
    "prime= True\n",
    "i=2\n",
    "while i<n:\n",
    "    if n%i==0:\n",
    "        prime=False\n",
    "        break\n",
    "    i+=1\n",
    "if prime:\n",
    "    print(f\"{n} is a prime number\")\n",
    "else:\n",
    "    print(f\"{n} is not prime number\")"
   ]
  },
  {
   "cell_type": "code",
   "execution_count": 45,
   "id": "4e5d9b6e-b471-4ffd-890b-8a9c92651f28",
   "metadata": {},
   "outputs": [],
   "source": [
    "l=[1,4,2,5,9,6,7]"
   ]
  },
  {
   "cell_type": "code",
   "execution_count": 46,
   "id": "4043c05c-9a2b-49cd-99da-2230664658c4",
   "metadata": {},
   "outputs": [
    {
     "data": {
      "text/plain": [
       "7"
      ]
     },
     "execution_count": 46,
     "metadata": {},
     "output_type": "execute_result"
    }
   ],
   "source": [
    "len(l)"
   ]
  },
  {
   "cell_type": "code",
   "execution_count": 48,
   "id": "81efa89d-9707-47d3-9716-9a08986ffdf5",
   "metadata": {},
   "outputs": [
    {
     "name": "stdout",
     "output_type": "stream",
     "text": [
      "[1, 4, 2, 5, 9, 6, 7]\n"
     ]
    }
   ],
   "source": [
    "print(l)"
   ]
  },
  {
   "cell_type": "code",
   "execution_count": 49,
   "id": "ef36decf-701c-4085-92c9-9ca191c3347a",
   "metadata": {},
   "outputs": [],
   "source": [
    "d={\"name\":\"pratham singh\",\"age\":21,\"education\":\"btech\"}"
   ]
  },
  {
   "cell_type": "code",
   "execution_count": 50,
   "id": "d8c4bd77-4348-4949-a475-461f2bce8316",
   "metadata": {},
   "outputs": [
    {
     "name": "stdout",
     "output_type": "stream",
     "text": [
      "{'name': 'pratham singh', 'age': 21, 'education': 'btech'}\n"
     ]
    }
   ],
   "source": [
    "print(d)"
   ]
  },
  {
   "cell_type": "code",
   "execution_count": 51,
   "id": "9a343822-cb6c-4e59-98a5-9ab38345324c",
   "metadata": {},
   "outputs": [
    {
     "data": {
      "text/plain": [
       "dict_keys(['name', 'age', 'education'])"
      ]
     },
     "execution_count": 51,
     "metadata": {},
     "output_type": "execute_result"
    }
   ],
   "source": [
    "d.keys()"
   ]
  },
  {
   "cell_type": "code",
   "execution_count": 53,
   "id": "64bf8cc1-e967-4486-815c-d630448974dd",
   "metadata": {},
   "outputs": [
    {
     "data": {
      "text/plain": [
       "dict_values(['pratham singh', 21, 'btech'])"
      ]
     },
     "execution_count": 53,
     "metadata": {},
     "output_type": "execute_result"
    }
   ],
   "source": [
    "d.values()"
   ]
  },
  {
   "cell_type": "code",
   "execution_count": 55,
   "id": "f4a9747a-16af-441b-b872-ed051033954c",
   "metadata": {},
   "outputs": [],
   "source": [
    "k=list(d)"
   ]
  },
  {
   "cell_type": "code",
   "execution_count": 56,
   "id": "0f7e68ef-729a-4314-acf1-d7c1982a4abb",
   "metadata": {},
   "outputs": [
    {
     "name": "stdout",
     "output_type": "stream",
     "text": [
      "['name', 'age', 'education']\n"
     ]
    }
   ],
   "source": [
    "print(k)"
   ]
  },
  {
   "cell_type": "code",
   "execution_count": 54,
   "id": "6ccde3d4-07c2-40e5-a1d7-e16b38b39e67",
   "metadata": {},
   "outputs": [],
   "source": [
    "#TO FIND THE DICTIONARY VAKUE AS AN OUTPUT\n",
    "\n",
    "i=0\n",
    "n=len(d)\n",
    "k=list(d)"
   ]
  },
  {
   "cell_type": "code",
   "execution_count": 73,
   "id": "4c52fca7-6d39-4231-b64e-ff3c6e9cb75a",
   "metadata": {},
   "outputs": [
    {
     "name": "stdout",
     "output_type": "stream",
     "text": [
      "24 % 1 = 24.0\n",
      "24 % 2 = 12.0\n",
      "24 % 3 = 8.0\n",
      "24 % 4 = 6.0\n",
      "24 % 6 = 4.0\n",
      "24 % 8 = 3.0\n",
      "24 % 12 = 2.0\n",
      "24 % 24 = 1.0\n",
      "[1, 2, 3, 4, 6, 8, 12, 24]\n"
     ]
    }
   ],
   "source": [
    "i=1\n",
    "n=24\n",
    "l=[]\n",
    "while i<=n:\n",
    "    \n",
    "    if n%i==0:\n",
    "        print(n , \"%\", i,\"=\", n / i)\n",
    "        l.append(i)\n",
    "    i+=1\n",
    "        \n",
    "        \n",
    "        \n",
    "   \n",
    "\n",
    "print(l)"
   ]
  },
  {
   "cell_type": "code",
   "execution_count": 91,
   "id": "9a733596-624b-4a7d-96ca-7ccecb032a57",
   "metadata": {},
   "outputs": [
    {
     "name": "stdout",
     "output_type": "stream",
     "text": [
      "2 2\n",
      "5 2\n",
      "6 5\n",
      "9 6\n",
      "9 6\n",
      "9 6\n",
      "9 7\n",
      "10 9\n",
      "10 9\n"
     ]
    }
   ],
   "source": [
    "a=[2,5,6,9,4,3,7,10,8]\n",
    "l=a[0]\n",
    "s=a[0]\n",
    "i=0\n",
    "n=len(a)\n",
    "while i<n:\n",
    "    #print(a, a[i], l)\n",
    "    if a[i]>l:\n",
    "        s=l\n",
    "        l=a[i]\n",
    "    elif a[i]>s:\n",
    "        s=a[i]\n",
    "    i+=1\n",
    "    print(l,s)"
   ]
  },
  {
   "cell_type": "code",
   "execution_count": 79,
   "id": "bc75bc52-b881-47e2-aba5-daeb21b693ba",
   "metadata": {},
   "outputs": [
    {
     "ename": "SyntaxError",
     "evalue": "invalid non-printable character U+00A0 (576265594.py, line 13)",
     "output_type": "error",
     "traceback": [
      "\u001b[1;36m  Cell \u001b[1;32mIn[79], line 13\u001b[1;36m\u001b[0m\n\u001b[1;33m    print(l,s)\u001b[0m\n\u001b[1;37m    ^\u001b[0m\n\u001b[1;31mSyntaxError\u001b[0m\u001b[1;31m:\u001b[0m invalid non-printable character U+00A0\n"
     ]
    }
   ],
   "source": [
    "a=[2,5,6,9,4,3,7,10,8]\n",
    "l=a[0]\n",
    "s=a[0]\n",
    "i=0\n",
    "n=len(a)\n",
    "while i<n:\n",
    "    if a[i]>l:\n",
    "        s=l\n",
    "        l=a[i]\n",
    "    elif a[i]>s:\n",
    "        s=a[i]\n",
    "    i+=1\n",
    "    print(l,s)"
   ]
  },
  {
   "cell_type": "code",
   "execution_count": 82,
   "id": "2170ba4a-7601-4c2c-8452-e31c709c2c26",
   "metadata": {},
   "outputs": [
    {
     "name": "stdout",
     "output_type": "stream",
     "text": [
      "012\n",
      "012\n",
      "012\n"
     ]
    }
   ],
   "source": [
    "i=0\n",
    "n=3\n",
    "while i<n:\n",
    "    j=0\n",
    "    m=3\n",
    "    while j<m:\n",
    "        print(j, end=\"\")\n",
    "        j+=1\n",
    "    print()\n",
    "    i+=1\n",
    "    "
   ]
  },
  {
   "cell_type": "code",
   "execution_count": null,
   "id": "642bac28-b4fc-4102-be53-7ee37aef0986",
   "metadata": {},
   "outputs": [],
   "source": []
  }
 ],
 "metadata": {
  "kernelspec": {
   "display_name": "Python 3 (ipykernel)",
   "language": "python",
   "name": "python3"
  },
  "language_info": {
   "codemirror_mode": {
    "name": "ipython",
    "version": 3
   },
   "file_extension": ".py",
   "mimetype": "text/x-python",
   "name": "python",
   "nbconvert_exporter": "python",
   "pygments_lexer": "ipython3",
   "version": "3.13.5"
  }
 },
 "nbformat": 4,
 "nbformat_minor": 5
}
