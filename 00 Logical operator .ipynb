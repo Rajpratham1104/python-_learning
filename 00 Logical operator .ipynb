{
 "cells": [
  {
   "cell_type": "markdown",
   "id": "203e9014-4e5d-4510-8cbb-a8dfa3f26b0a",
   "metadata": {},
   "source": [
    "# LOGICAL OPERATOR"
   ]
  },
  {
   "cell_type": "code",
   "execution_count": 1,
   "id": "0859c39b-08db-400c-9e27-6b0d43aa8421",
   "metadata": {},
   "outputs": [
    {
     "data": {
      "text/plain": [
       "False"
      ]
     },
     "execution_count": 1,
     "metadata": {},
     "output_type": "execute_result"
    }
   ],
   "source": [
    "not True"
   ]
  },
  {
   "cell_type": "code",
   "execution_count": 3,
   "id": "01c85bd3-54fc-434e-a632-526aa0ee7a7e",
   "metadata": {},
   "outputs": [
    {
     "data": {
      "text/plain": [
       "True"
      ]
     },
     "execution_count": 3,
     "metadata": {},
     "output_type": "execute_result"
    }
   ],
   "source": [
    "not False"
   ]
  },
  {
   "cell_type": "code",
   "execution_count": 13,
   "id": "6703e3f3-8f2d-4c51-89e7-6b303b7aa3b2",
   "metadata": {},
   "outputs": [],
   "source": [
    "name=\"pratham singh\""
   ]
  },
  {
   "cell_type": "code",
   "execution_count": 14,
   "id": "becbb4be-b6c3-4ef0-a915-50afcaecd554",
   "metadata": {},
   "outputs": [
    {
     "name": "stdout",
     "output_type": "stream",
     "text": [
      "jadhoooo pratham singh\n"
     ]
    }
   ],
   "source": [
    "if name:\n",
    "    print(\"jadhoooo\", name)"
   ]
  },
  {
   "cell_type": "code",
   "execution_count": 18,
   "id": "d752d96f-f006-4228-95be-1363f21415e0",
   "metadata": {},
   "outputs": [],
   "source": [
    "first=False\n"
   ]
  },
  {
   "cell_type": "code",
   "execution_count": 19,
   "id": "a84473c7-3b0f-4cda-9367-1369854f0139",
   "metadata": {},
   "outputs": [
    {
     "name": "stdout",
     "output_type": "stream",
     "text": [
      "hi REX\n"
     ]
    }
   ],
   "source": [
    "if first:\n",
    "    print(\"hi nice to meet you\")\n",
    "    name=input(\"enter your name\")\n",
    "    first=False\n",
    "else:\n",
    "    print(\"hi\", name)"
   ]
  },
  {
   "cell_type": "code",
   "execution_count": 20,
   "id": "8d31fdfe-f2e6-4f71-b887-df0be1994a5b",
   "metadata": {},
   "outputs": [],
   "source": [
    "count=0\n"
   ]
  },
  {
   "cell_type": "code",
   "execution_count": 21,
   "id": "48671310-3864-4eab-9dec-297c223e1c7e",
   "metadata": {},
   "outputs": [
    {
     "name": "stdout",
     "output_type": "stream",
     "text": [
      "you are out of game\n"
     ]
    }
   ],
   "source": [
    "if not count:\n",
    "    print(\"you are out of game\")"
   ]
  },
  {
   "cell_type": "code",
   "execution_count": null,
   "id": "5083c680-6f44-4abf-8f7f-2d64cbc560df",
   "metadata": {},
   "outputs": [],
   "source": []
  },
  {
   "cell_type": "markdown",
   "id": "bab75dc5-03ee-407c-968b-eabca1bc2254",
   "metadata": {},
   "source": [
    "# AND"
   ]
  },
  {
   "cell_type": "code",
   "execution_count": 30,
   "id": "848a3116-048d-41a5-983c-bbb8f2ef78c7",
   "metadata": {},
   "outputs": [],
   "source": [
    "Attendence= 60\n",
    "marks=50"
   ]
  },
  {
   "cell_type": "code",
   "execution_count": 32,
   "id": "4ff4e293-952a-4466-84f7-dcc3b28be139",
   "metadata": {},
   "outputs": [],
   "source": [
    "if Attendence >75:\n",
    "    print('PASS')\n"
   ]
  },
  {
   "cell_type": "code",
   "execution_count": 33,
   "id": "ca82c49c-71cc-4626-b322-a50b4bd1d899",
   "metadata": {},
   "outputs": [
    {
     "name": "stdout",
     "output_type": "stream",
     "text": [
      "PASS\n"
     ]
    }
   ],
   "source": [
    "if marks>35:\n",
    "    print('PASS')"
   ]
  },
  {
   "cell_type": "raw",
   "id": "36da81c5-4526-4aef-ae60-76c17f127246",
   "metadata": {},
   "source": [
    "if Attendence > 75 and marks>35:\n",
    "    print('PASS')\n",
    "else:\n",
    "    print ('FAIL')"
   ]
  },
  {
   "cell_type": "code",
   "execution_count": 45,
   "id": "deddaec6-c050-41f6-9381-c36a1211984d",
   "metadata": {},
   "outputs": [],
   "source": [
    "TICKET= True\n",
    "age =18"
   ]
  },
  {
   "cell_type": "code",
   "execution_count": 46,
   "id": "4d270fca-fab2-4499-861a-1ed27cf2855b",
   "metadata": {},
   "outputs": [
    {
     "name": "stdout",
     "output_type": "stream",
     "text": [
      "welcome\n"
     ]
    }
   ],
   "source": [
    "\n",
    "if TICKET == True and age>=18:\n",
    "    print('welcome')\n",
    "else:\n",
    "    print('not allowed')\n",
    "    \n",
    "\n"
   ]
  },
  {
   "cell_type": "code",
   "execution_count": 47,
   "id": "a638983d-42bd-4edb-9bd5-ee3903a20498",
   "metadata": {},
   "outputs": [
    {
     "data": {
      "text/plain": [
       "True"
      ]
     },
     "execution_count": 47,
     "metadata": {},
     "output_type": "execute_result"
    }
   ],
   "source": [
    "True and True "
   ]
  },
  {
   "cell_type": "code",
   "execution_count": 48,
   "id": "2046c108-e8f3-4d5f-8499-3fcb8d2c4cf3",
   "metadata": {},
   "outputs": [
    {
     "data": {
      "text/plain": [
       "False"
      ]
     },
     "execution_count": 48,
     "metadata": {},
     "output_type": "execute_result"
    }
   ],
   "source": [
    "True and False"
   ]
  },
  {
   "cell_type": "code",
   "execution_count": 49,
   "id": "0f88860c-be4e-4be3-a0f9-7c3b017b62cd",
   "metadata": {},
   "outputs": [
    {
     "data": {
      "text/plain": [
       "False"
      ]
     },
     "execution_count": 49,
     "metadata": {},
     "output_type": "execute_result"
    }
   ],
   "source": [
    "False and False"
   ]
  },
  {
   "cell_type": "markdown",
   "id": "bd5de80c-2088-4a52-b271-ad2667d93792",
   "metadata": {},
   "source": [
    "# OR"
   ]
  },
  {
   "cell_type": "code",
   "execution_count": 50,
   "id": "e435ab03-9983-4ada-ad75-5e7b9f4866cc",
   "metadata": {},
   "outputs": [
    {
     "data": {
      "text/plain": [
       "True"
      ]
     },
     "execution_count": 50,
     "metadata": {},
     "output_type": "execute_result"
    }
   ],
   "source": [
    "True or False"
   ]
  },
  {
   "cell_type": "code",
   "execution_count": 51,
   "id": "c33c19a4-9470-4df9-a1e7-18dd11a36b50",
   "metadata": {},
   "outputs": [
    {
     "data": {
      "text/plain": [
       "True"
      ]
     },
     "execution_count": 51,
     "metadata": {},
     "output_type": "execute_result"
    }
   ],
   "source": [
    "True or False"
   ]
  },
  {
   "cell_type": "code",
   "execution_count": 52,
   "id": "b1f9d0f3-fe06-4db8-b0a9-98cc0e7cafba",
   "metadata": {},
   "outputs": [
    {
     "data": {
      "text/plain": [
       "False"
      ]
     },
     "execution_count": 52,
     "metadata": {},
     "output_type": "execute_result"
    }
   ],
   "source": [
    "False or False"
   ]
  },
  {
   "cell_type": "code",
   "execution_count": 53,
   "id": "08e05e1b-4c73-44c0-b162-b62ae7e437c9",
   "metadata": {},
   "outputs": [],
   "source": [
    "Marks =90\n",
    "donation= 90"
   ]
  },
  {
   "cell_type": "code",
   "execution_count": 56,
   "id": "4e8898e3-33d1-4c57-93f3-cb08ecbf3c5b",
   "metadata": {},
   "outputs": [
    {
     "name": "stdout",
     "output_type": "stream",
     "text": [
      "not allowed\n"
     ]
    }
   ],
   "source": [
    "if Marks ==80 or donation== 0:\n",
    "    print('welcome to college')\n",
    "else:\n",
    "    print('not allowed')"
   ]
  },
  {
   "cell_type": "code",
   "execution_count": 59,
   "id": "d642c22b-2aae-40af-b99e-b7b11f911022",
   "metadata": {},
   "outputs": [],
   "source": [
    "email= True \n",
    "number= True\n"
   ]
  },
  {
   "cell_type": "code",
   "execution_count": 60,
   "id": "51bfee9a-a0d7-4fc2-9c38-7d02661c37cc",
   "metadata": {},
   "outputs": [
    {
     "name": "stdout",
     "output_type": "stream",
     "text": [
      "member of this office\n"
     ]
    }
   ],
   "source": [
    "if email or number:\n",
    "    print('member of this office')\n",
    "else:\n",
    "    print('new member')"
   ]
  },
  {
   "cell_type": "code",
   "execution_count": 61,
   "id": "8b7d58fa-7d04-43fb-adc3-ce66ffa0f08f",
   "metadata": {},
   "outputs": [],
   "source": [
    "email= True \n",
    "number= False"
   ]
  },
  {
   "cell_type": "code",
   "execution_count": 62,
   "id": "35420201-cb00-4ac2-a339-33c684801b6a",
   "metadata": {},
   "outputs": [
    {
     "name": "stdout",
     "output_type": "stream",
     "text": [
      "member of this office\n"
     ]
    }
   ],
   "source": [
    "if email or number:\n",
    "    print('member of this office')\n",
    "else:\n",
    "    print('new member')"
   ]
  },
  {
   "cell_type": "markdown",
   "id": "2888532e-2a89-4c18-b49c-895ed313db18",
   "metadata": {},
   "source": [
    "## QUESTION \n",
    "### Grade Evaluation: Given a student’s marks in 5 subjects, write a program to determine:\n",
    "\n",
    "### \"Distinction\" if the average is over 75 and no subject has marks below 40.\n",
    "\n",
    "### \"Pass\" if average is over 40 but at most 2 subjects are below 40.\n",
    "\n",
    "### \"Fail\" otherwise.\n",
    "\n"
   ]
  },
  {
   "cell_type": "code",
   "execution_count": 94,
   "id": "82e0a213-7e13-4a88-b763-665d9b74af4a",
   "metadata": {},
   "outputs": [],
   "source": [
    "hindi=80\n",
    "english=90\n",
    "maths=90\n",
    "science=90\n"
   ]
  },
  {
   "cell_type": "code",
   "execution_count": 95,
   "id": "fd66af5f-6c3b-45a0-a593-809a219b1b09",
   "metadata": {},
   "outputs": [],
   "source": [
    "average=(hindi + english + maths + science) //4"
   ]
  },
  {
   "cell_type": "code",
   "execution_count": 96,
   "id": "23fbd7de-9b20-47e2-baa6-ea737b75c699",
   "metadata": {},
   "outputs": [
    {
     "data": {
      "text/plain": [
       "87"
      ]
     },
     "execution_count": 96,
     "metadata": {},
     "output_type": "execute_result"
    }
   ],
   "source": [
    "average"
   ]
  },
  {
   "cell_type": "code",
   "execution_count": 101,
   "id": "339235a9-7ca8-4db1-8acd-ab87b3e41289",
   "metadata": {},
   "outputs": [
    {
     "name": "stdout",
     "output_type": "stream",
     "text": [
      "PASS\n",
      "distinction\n",
      "NOT TOPPER\n"
     ]
    }
   ],
   "source": [
    "if hindi>33 and english>33 and math >33 and sceince>33:\n",
    "    print (\"PASS\")\n",
    "    if average >=75 and hindi>40 and english>40 and maths>40 and science>40:\n",
    "        print (\"distinction\")\n",
    "    else:\n",
    "        print('vishnesh')\n",
    "    if hindi>90 and english>90 and maths>90 and science>90:\n",
    "        print('TOPPER')\n",
    "    else:\n",
    "        print ('NOT TOPPER')\n",
    "else:\n",
    "    print(\"FAIL\")"
   ]
  },
  {
   "cell_type": "code",
   "execution_count": null,
   "id": "46220dd1-8ec2-4fae-ad59-e68dc727b309",
   "metadata": {},
   "outputs": [],
   "source": []
  }
 ],
 "metadata": {
  "kernelspec": {
   "display_name": "Python 3 (ipykernel)",
   "language": "python",
   "name": "python3"
  },
  "language_info": {
   "codemirror_mode": {
    "name": "ipython",
    "version": 3
   },
   "file_extension": ".py",
   "mimetype": "text/x-python",
   "name": "python",
   "nbconvert_exporter": "python",
   "pygments_lexer": "ipython3",
   "version": "3.13.5"
  }
 },
 "nbformat": 4,
 "nbformat_minor": 5
}
