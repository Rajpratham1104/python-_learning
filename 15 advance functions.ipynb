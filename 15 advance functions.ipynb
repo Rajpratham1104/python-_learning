{
 "cells": [
  {
   "cell_type": "markdown",
   "id": "e8dd8615-3194-4537-862c-4f2021cd1276",
   "metadata": {},
   "source": [
    "# Functions"
   ]
  },
  {
   "cell_type": "code",
   "execution_count": 1,
   "id": "804c576d-7a6c-4413-b8fa-a39ccc964585",
   "metadata": {},
   "outputs": [],
   "source": [
    "#Functions store code , and it executes the code when called\n"
   ]
  },
  {
   "cell_type": "code",
   "execution_count": 2,
   "id": "a3577d3f-79eb-45a4-9077-9be808af289e",
   "metadata": {},
   "outputs": [],
   "source": [
    "#define funcion\n",
    "def greeting():\n",
    "    print( \"hello everyone\")\n",
    "    print (4+4)"
   ]
  },
  {
   "cell_type": "code",
   "execution_count": 4,
   "id": "a0b3e9dd-a078-4fcd-8971-67bbf82daed3",
   "metadata": {},
   "outputs": [
    {
     "name": "stdout",
     "output_type": "stream",
     "text": [
      "hello everyone\n",
      "8\n"
     ]
    }
   ],
   "source": [
    "# call a function\n",
    "greeting()"
   ]
  },
  {
   "cell_type": "code",
   "execution_count": 5,
   "id": "8a54c7f5-1735-478c-a6bf-e4b6d0773342",
   "metadata": {},
   "outputs": [
    {
     "name": "stdout",
     "output_type": "stream",
     "text": [
      "hi\n"
     ]
    },
    {
     "data": {
      "text/plain": [
       "7"
      ]
     },
     "execution_count": 5,
     "metadata": {},
     "output_type": "execute_result"
    }
   ],
   "source": [
    "#built in function\n",
    "print(\"hi\")\n",
    "len(\"shubham\")"
   ]
  },
  {
   "cell_type": "code",
   "execution_count": 6,
   "id": "aecb6530-1699-4849-a595-adc065d6cd34",
   "metadata": {},
   "outputs": [
    {
     "data": {
      "text/plain": [
       "9"
      ]
     },
     "execution_count": 6,
     "metadata": {},
     "output_type": "execute_result"
    }
   ],
   "source": [
    "min([8,9,3])\n",
    "max([5,6,9])"
   ]
  },
  {
   "cell_type": "code",
   "execution_count": 9,
   "id": "299bf579-9154-4cde-865e-1f0b5741e818",
   "metadata": {},
   "outputs": [],
   "source": [
    "#input functions\n",
    "def greeting():\n",
    "    name =\"shubham\"\n",
    "    print(f\"hello {name} nice to meet you\")"
   ]
  },
  {
   "cell_type": "code",
   "execution_count": 10,
   "id": "96f33868-3cfe-4263-9191-9c839ca7b474",
   "metadata": {},
   "outputs": [
    {
     "name": "stdout",
     "output_type": "stream",
     "text": [
      "hello shubham nice to meet you\n"
     ]
    }
   ],
   "source": [
    "greeting()"
   ]
  },
  {
   "cell_type": "code",
   "execution_count": 11,
   "id": "e087413e-d72d-4e32-9940-606249872a9e",
   "metadata": {},
   "outputs": [],
   "source": [
    "#input functions\n",
    "def greeting(name):\n",
    "    print(f\"hello {name} nice to meet you\")"
   ]
  },
  {
   "cell_type": "code",
   "execution_count": 14,
   "id": "6102988e-72dd-4746-b8a8-d3ed3be7e2ca",
   "metadata": {},
   "outputs": [
    {
     "name": "stdout",
     "output_type": "stream",
     "text": [
      "hello pratham singh nice to meet you\n"
     ]
    }
   ],
   "source": [
    "greeting(\"pratham singh\")"
   ]
  },
  {
   "cell_type": "code",
   "execution_count": 15,
   "id": "eb6df4f1-ec7a-4a19-ade2-166e0cca3d9b",
   "metadata": {},
   "outputs": [],
   "source": [
    "def area_of_circle(r):\n",
    "    print((22/7)*r*r)"
   ]
  },
  {
   "cell_type": "code",
   "execution_count": 16,
   "id": "fcf6d10d-1633-4320-9b23-fcc686d00c9c",
   "metadata": {},
   "outputs": [
    {
     "name": "stdout",
     "output_type": "stream",
     "text": [
      "201.14285714285714\n"
     ]
    }
   ],
   "source": [
    "area_of_circle(8)"
   ]
  },
  {
   "cell_type": "code",
   "execution_count": 23,
   "id": "d8c7613b-9e10-4bb0-82d3-20fa60ead73f",
   "metadata": {},
   "outputs": [],
   "source": [
    "#scope in which variable entry is not visible to other or visible within function\n",
    "def myprofile():\n",
    "    name=\"pratham singh\"\n",
    "    age=\"21\"\n",
    "    education=\"btech\"\n",
    "    print(name, age ,education )"
   ]
  },
  {
   "cell_type": "code",
   "execution_count": 24,
   "id": "c3696c41-53c7-4bef-99e5-325979ea08a4",
   "metadata": {},
   "outputs": [
    {
     "name": "stdout",
     "output_type": "stream",
     "text": [
      "pratham singh 21 btech\n"
     ]
    }
   ],
   "source": [
    "myprofile()"
   ]
  },
  {
   "cell_type": "code",
   "execution_count": 25,
   "id": "80cc0e77-b568-41c3-8e16-6dd324443793",
   "metadata": {},
   "outputs": [],
   "source": [
    "#global scope \n",
    "job=\"netmax\"\n",
    "def myprofile():\n",
    "    name =\"pratham singh\"\n",
    "    age =\"31\"\n",
    "    education=\"btech\"\n",
    "    job=\"SDE\"\n",
    "    print(name, age , education, job)"
   ]
  },
  {
   "cell_type": "code",
   "execution_count": 26,
   "id": "14b29b74-90a5-450f-ac20-3ce258b5cf16",
   "metadata": {},
   "outputs": [
    {
     "name": "stdout",
     "output_type": "stream",
     "text": [
      "pratham singh 31 btech SDE\n"
     ]
    }
   ],
   "source": [
    "myprofile()"
   ]
  },
  {
   "cell_type": "code",
   "execution_count": 27,
   "id": "1e1c7a85-a418-42fc-af5c-77d0f3677d8c",
   "metadata": {},
   "outputs": [
    {
     "data": {
      "text/plain": [
       "'netmax'"
      ]
     },
     "execution_count": 27,
     "metadata": {},
     "output_type": "execute_result"
    }
   ],
   "source": [
    "job"
   ]
  },
  {
   "cell_type": "code",
   "execution_count": 41,
   "id": "8fb3fe19-c45c-4d1c-b184-6e7a4fb8d96f",
   "metadata": {},
   "outputs": [],
   "source": [
    "# default fiunction\n",
    "def greeting(name=\"USER\"):\n",
    "    print(f\"hello {name} \" )"
   ]
  },
  {
   "cell_type": "code",
   "execution_count": 43,
   "id": "88abc4df-0c7b-4b92-b1f1-bba5dc3242b6",
   "metadata": {},
   "outputs": [
    {
     "name": "stdout",
     "output_type": "stream",
     "text": [
      "hello akash \n"
     ]
    }
   ],
   "source": [
    "greeting(\"akash\")"
   ]
  },
  {
   "cell_type": "code",
   "execution_count": 47,
   "id": "adbaddc6-2299-4505-8f4a-d9ebc2c40aa9",
   "metadata": {},
   "outputs": [],
   "source": [
    "def salary_structure(salary, tax_rate):\n",
    "    tax= salary*tax_rate\n",
    "    return tax"
   ]
  },
  {
   "cell_type": "code",
   "execution_count": 48,
   "id": "fafbebf3-1dae-4b47-a4f8-f579ee780105",
   "metadata": {},
   "outputs": [],
   "source": [
    "tax= salary_structure(9000, 0.15) "
   ]
  },
  {
   "cell_type": "code",
   "execution_count": 49,
   "id": "081fa56c-5573-4f76-baa3-b9e88dc39ffe",
   "metadata": {},
   "outputs": [
    {
     "data": {
      "text/plain": [
       "1350.0"
      ]
     },
     "execution_count": 49,
     "metadata": {},
     "output_type": "execute_result"
    }
   ],
   "source": [
    "tax"
   ]
  },
  {
   "cell_type": "code",
   "execution_count": 50,
   "id": "d9a1a77d-9ad4-4cfa-8d7e-4da04d36a242",
   "metadata": {},
   "outputs": [
    {
     "ename": "SyntaxError",
     "evalue": "parameter without a default follows parameter with a default (3176082388.py, line 1)",
     "output_type": "error",
     "traceback": [
      "\u001b[1;36m  Cell \u001b[1;32mIn[50], line 1\u001b[1;36m\u001b[0m\n\u001b[1;33m    def salary_structure(salary=50000, tax_rate):\u001b[0m\n\u001b[1;37m                                       ^\u001b[0m\n\u001b[1;31mSyntaxError\u001b[0m\u001b[1;31m:\u001b[0m parameter without a default follows parameter with a default\n"
     ]
    }
   ],
   "source": [
    "def salary_structure(salary=50000, tax_rate):\n",
    "    tax= salary*tax_rate\n",
    "    return tax"
   ]
  },
  {
   "cell_type": "code",
   "execution_count": 51,
   "id": "0d6814a9-d38c-4bc3-a785-a2720cda53da",
   "metadata": {},
   "outputs": [
    {
     "name": "stdout",
     "output_type": "stream",
     "text": [
      "🖕\n"
     ]
    }
   ],
   "source": [
    "print(\"\\U0001F595\")"
   ]
  },
  {
   "cell_type": "code",
   "execution_count": 52,
   "id": "3e01d074-02d4-4f0b-b2f9-ae0b284af9f0",
   "metadata": {},
   "outputs": [],
   "source": [
    "def salary_structure(salary=50000, tax_rate=0.12):\n",
    "    tax= salary*tax_rate\n",
    "    return tax"
   ]
  },
  {
   "cell_type": "code",
   "execution_count": 53,
   "id": "6cf52ced-b130-451e-a00b-fcb01d893c1e",
   "metadata": {},
   "outputs": [
    {
     "data": {
      "text/plain": [
       "6000.0"
      ]
     },
     "execution_count": 53,
     "metadata": {},
     "output_type": "execute_result"
    }
   ],
   "source": [
    "salary_structure()"
   ]
  },
  {
   "cell_type": "code",
   "execution_count": null,
   "id": "ed5758ee-26d6-443f-a755-d4fd7e24f6be",
   "metadata": {},
   "outputs": [],
   "source": [
    "#inside ( ) whatever we write in this ( ) is said to be perimeter\n",
    "#like def salary_structure(salary , tax rate is said to be a perimeter)\n",
    "\n",
    "# whatever we write in calling function it is called as arguments\n"
   ]
  },
  {
   "cell_type": "code",
   "execution_count": 72,
   "id": "81bea962-3e59-4237-b643-9a97452b27b8",
   "metadata": {},
   "outputs": [],
   "source": [
    "def volume_cuboid(length, width, height):\n",
    "     dimension = f\"\"\"\n",
    "     \n",
    "    \n",
    "    length={length}\n",
    "    width={width}\n",
    "    height={height}\n",
    "    \"\"\"\n",
    "    \n",
    "     print(dimension)\n",
    "   \n",
    "     return length*width* height"
   ]
  },
  {
   "cell_type": "code",
   "execution_count": 73,
   "id": "c0bc4e57-fccb-4feb-9934-ad4fd876d3d3",
   "metadata": {},
   "outputs": [
    {
     "name": "stdout",
     "output_type": "stream",
     "text": [
      "\n",
      "     \n",
      "    \n",
      "    length=50\n",
      "    width=60\n",
      "    height=70\n",
      "    \n"
     ]
    },
    {
     "data": {
      "text/plain": [
       "210000"
      ]
     },
     "execution_count": 73,
     "metadata": {},
     "output_type": "execute_result"
    }
   ],
   "source": [
    "#position arguments\n",
    "volume_cuboid(50,60, 70)"
   ]
  },
  {
   "cell_type": "code",
   "execution_count": 74,
   "id": "320fc7fc-8212-4c6d-938f-32323cb7a47d",
   "metadata": {},
   "outputs": [
    {
     "name": "stdout",
     "output_type": "stream",
     "text": [
      "\n",
      "     \n",
      "    \n",
      "    length=80\n",
      "    width=90\n",
      "    height=100\n",
      "    \n"
     ]
    },
    {
     "data": {
      "text/plain": [
       "720000"
      ]
     },
     "execution_count": 74,
     "metadata": {},
     "output_type": "execute_result"
    }
   ],
   "source": [
    "# keyword arguements\n",
    "volume_cuboid (length=80, width=90, height=100)"
   ]
  },
  {
   "cell_type": "code",
   "execution_count": 75,
   "id": "fb52168e-5f40-4a1e-be60-e4cb6738ded8",
   "metadata": {},
   "outputs": [],
   "source": [
    "li=[8,6,7,2,6,8,1,9,6,7,4,7,3,2]"
   ]
  },
  {
   "cell_type": "code",
   "execution_count": 76,
   "id": "9073e32b-6d4a-4772-9a8e-0f9ce08c5833",
   "metadata": {},
   "outputs": [],
   "source": [
    "def sorhalf(li:list):\n",
    "    length= len(li)\n",
    "    li.sort()\n",
    "    firsthalf=li[:length//2]\n",
    "    secondhalf= li[length//2:]\n",
    "    secondhalf.sort(reverse=True)\n",
    "\n",
    "\n",
    "    return firsthalf+secondhalf "
   ]
  },
  {
   "cell_type": "code",
   "execution_count": 78,
   "id": "2a0d5c29-ca84-49ad-a0ad-867cbf2c4f2f",
   "metadata": {},
   "outputs": [
    {
     "data": {
      "text/plain": [
       "[1, 2, 2, 3, 4, 6, 6, 9, 8, 8, 7, 7, 7, 6]"
      ]
     },
     "execution_count": 78,
     "metadata": {},
     "output_type": "execute_result"
    }
   ],
   "source": [
    "sorhalf(li)"
   ]
  },
  {
   "cell_type": "code",
   "execution_count": null,
   "id": "01f27c2f-f755-48c7-aa69-485427c95cb1",
   "metadata": {},
   "outputs": [],
   "source": []
  },
  {
   "cell_type": "code",
   "execution_count": 84,
   "id": "ad3491b4-b9a6-4f59-9f04-90e5b4bc985a",
   "metadata": {},
   "outputs": [],
   "source": [
    "#TO CHECK PALINDROME\n",
    "def check_palindrome(n):\n",
    "    \n",
    "    return str(n).strip().lower()==str(n)[::-1].strip(). lower()\n",
    "    "
   ]
  },
  {
   "cell_type": "code",
   "execution_count": 85,
   "id": "773e40ed-1c5e-4eca-84f5-8acec8605ece",
   "metadata": {},
   "outputs": [
    {
     "data": {
      "text/plain": [
       "True"
      ]
     },
     "execution_count": 85,
     "metadata": {},
     "output_type": "execute_result"
    }
   ],
   "source": [
    "check_palindrome(\"naman\")"
   ]
  },
  {
   "cell_type": "code",
   "execution_count": 91,
   "id": "7f3d5bd0-c97d-4917-a255-a95abba72df0",
   "metadata": {},
   "outputs": [],
   "source": [
    "# TO check prime number using funvtion's\n",
    "def checkPrime(n):\n",
    "    for i in  range(2,n):\n",
    "        print(n, i , n%i)\n",
    "        if n%i==0:\n",
    "            return False\n",
    "    return True"
   ]
  },
  {
   "cell_type": "code",
   "execution_count": 92,
   "id": "ec45b13d-8775-4c58-8328-47e0ef2bd086",
   "metadata": {},
   "outputs": [
    {
     "name": "stdout",
     "output_type": "stream",
     "text": [
      "9 2 1\n",
      "9 3 0\n"
     ]
    },
    {
     "data": {
      "text/plain": [
       "False"
      ]
     },
     "execution_count": 92,
     "metadata": {},
     "output_type": "execute_result"
    }
   ],
   "source": [
    "checkPrime(9)"
   ]
  },
  {
   "cell_type": "code",
   "execution_count": 27,
   "id": "81f2451a-b22e-4d42-a2c9-83ec20991183",
   "metadata": {},
   "outputs": [],
   "source": [
    "# TO CEHCK EVERY NUMBER AS A PRIME OR NOT\n",
    "def checkPrime(n):\n",
    "    \n",
    "    for i in range (2,int(n**(1/2))+1):\n",
    "        print(n,i,n%i)\n",
    "        if n%i==0:\n",
    "            return False\n",
    "    return True"
   ]
  },
  {
   "cell_type": "code",
   "execution_count": 28,
   "id": "5e356a7b-c275-4244-b380-4b8d6eea4597",
   "metadata": {},
   "outputs": [
    {
     "name": "stdout",
     "output_type": "stream",
     "text": [
      "55 2 1\n",
      "55 3 1\n",
      "55 4 3\n",
      "55 5 0\n"
     ]
    },
    {
     "data": {
      "text/plain": [
       "False"
      ]
     },
     "execution_count": 28,
     "metadata": {},
     "output_type": "execute_result"
    }
   ],
   "source": [
    "checkPrime(55)"
   ]
  },
  {
   "cell_type": "code",
   "execution_count": 34,
   "id": "2788e45a-101d-4bb6-87f0-3398954ec48a",
   "metadata": {},
   "outputs": [
    {
     "ename": "SyntaxError",
     "evalue": "invalid non-printable character U+00A0 (3748747059.py, line 10)",
     "output_type": "error",
     "traceback": [
      "\u001b[1;36m  Cell \u001b[1;32mIn[34], line 10\u001b[1;36m\u001b[0m\n\u001b[1;33m    \u001b[0m\n\u001b[1;37m    ^\u001b[0m\n\u001b[1;31mSyntaxError\u001b[0m\u001b[1;31m:\u001b[0m invalid non-printable character U+00A0\n"
     ]
    }
   ],
   "source": [
    "def primeInRange(start, end=0):\n",
    "    if start>end:\n",
    "        start, end = end,start\n",
    "    l =[]\n",
    "    for n in range(start, end):\n",
    "        if checkPrime(n):\n",
    "            l.append(n)\n",
    "\n",
    "    \n",
    "    \n",
    "\n",
    "primeInRange(10,30)"
   ]
  },
  {
   "cell_type": "code",
   "execution_count": 33,
   "id": "bc8f84dd-05a2-4b24-876e-673eaea84c19",
   "metadata": {},
   "outputs": [
    {
     "ename": "SyntaxError",
     "evalue": "'return' outside function (3438313781.py, line 1)",
     "output_type": "error",
     "traceback": [
      "\u001b[1;36m  Cell \u001b[1;32mIn[33], line 1\u001b[1;36m\u001b[0m\n\u001b[1;33m    return\u001b[0m\n\u001b[1;37m    ^\u001b[0m\n\u001b[1;31mSyntaxError\u001b[0m\u001b[1;31m:\u001b[0m 'return' outside function\n"
     ]
    }
   ],
   "source": [
    "return"
   ]
  },
  {
   "cell_type": "code",
   "execution_count": null,
   "id": "02cc1f4e-f544-42ea-b23b-9a338d43d3a5",
   "metadata": {},
   "outputs": [],
   "source": []
  }
 ],
 "metadata": {
  "kernelspec": {
   "display_name": "Python 3 (ipykernel)",
   "language": "python",
   "name": "python3"
  },
  "language_info": {
   "codemirror_mode": {
    "name": "ipython",
    "version": 3
   },
   "file_extension": ".py",
   "mimetype": "text/x-python",
   "name": "python",
   "nbconvert_exporter": "python",
   "pygments_lexer": "ipython3",
   "version": "3.13.5"
  }
 },
 "nbformat": 4,
 "nbformat_minor": 5
}
