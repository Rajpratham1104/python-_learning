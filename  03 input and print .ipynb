{
 "cells": [
  {
   "cell_type": "markdown",
   "id": "7d82dd6c-140c-41d3-8e5e-eb3860fb84a6",
   "metadata": {},
   "source": [
    "## type casting"
   ]
  },
  {
   "cell_type": "code",
   "execution_count": 44,
   "id": "efad5f47-a195-46f1-8195-7220543d0f4b",
   "metadata": {},
   "outputs": [
    {
     "data": {
      "text/plain": [
       "''"
      ]
     },
     "execution_count": 44,
     "metadata": {},
     "output_type": "execute_result"
    }
   ],
   "source": [
    "str()"
   ]
  },
  {
   "cell_type": "code",
   "execution_count": 3,
   "id": "17487ea5-50f8-4b03-96d3-0d3f441e4395",
   "metadata": {},
   "outputs": [
    {
     "data": {
      "text/plain": [
       "'50.6'"
      ]
     },
     "execution_count": 3,
     "metadata": {},
     "output_type": "execute_result"
    }
   ],
   "source": [
    "str(50.)"
   ]
  },
  {
   "cell_type": "code",
   "execution_count": 4,
   "id": "8c093d09-a011-4449-b4b8-cbe62f27930a",
   "metadata": {},
   "outputs": [
    {
     "data": {
      "text/plain": [
       "50"
      ]
     },
     "execution_count": 4,
     "metadata": {},
     "output_type": "execute_result"
    }
   ],
   "source": [
    "int(50)"
   ]
  },
  {
   "cell_type": "code",
   "execution_count": 5,
   "id": "d50a1c95-57d8-48f2-b497-9fcbd35f6fa1",
   "metadata": {},
   "outputs": [
    {
     "data": {
      "text/plain": [
       "50"
      ]
     },
     "execution_count": 5,
     "metadata": {},
     "output_type": "execute_result"
    }
   ],
   "source": [
    "int(float(50.6))"
   ]
  },
  {
   "cell_type": "markdown",
   "id": "3fecbe53-ab69-4278-991a-dde6136a2456",
   "metadata": {},
   "source": [
    "## Print"
   ]
  },
  {
   "cell_type": "code",
   "execution_count": 7,
   "id": "f8bd60e4-4bd5-45b3-b829-820e17e14315",
   "metadata": {},
   "outputs": [
    {
     "name": "stdout",
     "output_type": "stream",
     "text": [
      "5\n"
     ]
    }
   ],
   "source": [
    " print(5)\n"
   ]
  },
  {
   "cell_type": "code",
   "execution_count": 8,
   "id": "f0d3779b-1545-4103-ba2d-1a6dd440d255",
   "metadata": {},
   "outputs": [
    {
     "name": "stdout",
     "output_type": "stream",
     "text": [
      "5\n"
     ]
    }
   ],
   "source": [
    "a=print(5)"
   ]
  },
  {
   "cell_type": "code",
   "execution_count": 11,
   "id": "e80103b0-76de-4188-ac1a-d6f5ec1b9b66",
   "metadata": {},
   "outputs": [],
   "source": [
    "a= None"
   ]
  },
  {
   "cell_type": "code",
   "execution_count": 12,
   "id": "ae1be179-9010-4a57-ad77-02cecb6b2036",
   "metadata": {},
   "outputs": [],
   "source": [
    "a"
   ]
  },
  {
   "cell_type": "code",
   "execution_count": 14,
   "id": "fb7e89ee-800e-4cde-82e5-0244716a0289",
   "metadata": {},
   "outputs": [
    {
     "name": "stdout",
     "output_type": "stream",
     "text": [
      "5 3 shubham singh\n"
     ]
    }
   ],
   "source": [
    "print(5, 3, \"shubham\",\"singh\" )"
   ]
  },
  {
   "cell_type": "code",
   "execution_count": 15,
   "id": "861f4f76-9d6c-43ba-9e8d-f2b41d8ada1b",
   "metadata": {},
   "outputs": [
    {
     "name": "stdout",
     "output_type": "stream",
     "text": [
      "5&3&pratham&singh\n"
     ]
    }
   ],
   "source": [
    "print(5,3, \"pratham\", \"singh\", sep=\"&\")"
   ]
  },
  {
   "cell_type": "code",
   "execution_count": 16,
   "id": "1f31a3f8-a19e-45b3-b114-d6e8b792c0c1",
   "metadata": {},
   "outputs": [
    {
     "name": "stdout",
     "output_type": "stream",
     "text": [
      "30 40 50\n",
      "60\n",
      "70\n"
     ]
    }
   ],
   "source": [
    "print(30,40,50)\n",
    "print(60)\n",
    "print(70)"
   ]
  },
  {
   "cell_type": "code",
   "execution_count": 23,
   "id": "78acca09-0595-42e4-9388-6651ab75a30f",
   "metadata": {},
   "outputs": [
    {
     "name": "stdout",
     "output_type": "stream",
     "text": [
      "30 40 50\n",
      "60 70\n"
     ]
    }
   ],
   "source": [
    "print(30, 40 ,50 , end=\"\\n\")\n",
    "print(60, 70 )"
   ]
  },
  {
   "cell_type": "code",
   "execution_count": 24,
   "id": "3f209f05-adc2-4770-95db-983d435fd89d",
   "metadata": {},
   "outputs": [
    {
     "name": "stdout",
     "output_type": "stream",
     "text": [
      "30 40 50 * 60 70\n"
     ]
    }
   ],
   "source": [
    "print(30, 40 ,50 , end=\" * \")\n",
    "print(60, 70 )"
   ]
  },
  {
   "cell_type": "code",
   "execution_count": 26,
   "id": "bc623750-1a74-40c3-b380-38be1d214af3",
   "metadata": {},
   "outputs": [
    {
     "name": "stdout",
     "output_type": "stream",
     "text": [
      "pratham singh 21\n"
     ]
    }
   ],
   "source": [
    "name = \"pratham singh\"\n",
    "age = 21\n",
    "print(f'{name} {age}') "
   ]
  },
  {
   "cell_type": "code",
   "execution_count": 27,
   "id": "12504980-0a92-41c9-a334-3147251c7105",
   "metadata": {},
   "outputs": [],
   "source": [
    "a=\"\"\"hello everyone\"\"\""
   ]
  },
  {
   "cell_type": "code",
   "execution_count": 28,
   "id": "30b50315-e585-40d0-9c07-c9b6cdcde7d5",
   "metadata": {},
   "outputs": [
    {
     "name": "stdout",
     "output_type": "stream",
     "text": [
      "hello everyone\n"
     ]
    }
   ],
   "source": [
    "print(a)"
   ]
  },
  {
   "cell_type": "code",
   "execution_count": 31,
   "id": "9195af17-1e53-4edb-89a4-cafd18bc2fbc",
   "metadata": {},
   "outputs": [],
   "source": [
    "a=\"\"\"hello \\neveryone\"\"\""
   ]
  },
  {
   "cell_type": "code",
   "execution_count": 32,
   "id": "57ccbfff-5ee1-4b26-897c-9fabba188ce7",
   "metadata": {},
   "outputs": [
    {
     "name": "stdout",
     "output_type": "stream",
     "text": [
      "hello \n",
      "everyone\n"
     ]
    }
   ],
   "source": [
    "print(a)"
   ]
  },
  {
   "cell_type": "code",
   "execution_count": 38,
   "id": "9b1ec470-d9f9-4749-8d6d-7e14f51dbe75",
   "metadata": {},
   "outputs": [],
   "source": [
    "a=\"hello \\tnetmax\""
   ]
  },
  {
   "cell_type": "code",
   "execution_count": 39,
   "id": "b545dd41-b7a0-415f-85bc-fd8db6ac0eae",
   "metadata": {},
   "outputs": [
    {
     "name": "stdout",
     "output_type": "stream",
     "text": [
      "hello \tnetmax\n"
     ]
    }
   ],
   "source": [
    "print(a)"
   ]
  },
  {
   "cell_type": "code",
   "execution_count": 40,
   "id": "9909ce29-c144-4366-9b0d-7b565ac3bbbe",
   "metadata": {},
   "outputs": [],
   "source": [
    "a=\"hello\\\\netmax\""
   ]
  },
  {
   "cell_type": "code",
   "execution_count": 41,
   "id": "6b512879-c809-48e2-9a79-57cb213ca38a",
   "metadata": {},
   "outputs": [
    {
     "name": "stdout",
     "output_type": "stream",
     "text": [
      "hello\\netmax\n"
     ]
    }
   ],
   "source": [
    "print(a)"
   ]
  },
  {
   "cell_type": "markdown",
   "id": "4dfaa595-4bfa-457f-ac22-7d327e6115f0",
   "metadata": {},
   "source": [
    "0 or 1 ------bit\n",
    "8 bit =1 byte \n",
    "1024 bytes = 1kb\n",
    "1024 kb = 1MB\n",
    "1024 MB= 1GB \n",
    "1024 GB = 1 TB\n",
    "1024TB= 1PB"
   ]
  },
  {
   "cell_type": "code",
   "execution_count": 42,
   "id": "22fb9811-8fd2-40c6-9f56-1b1d557ec2e7",
   "metadata": {},
   "outputs": [
    {
     "data": {
      "text/plain": [
       "<function print(*args, sep=' ', end='\\n', file=None, flush=False)>"
      ]
     },
     "execution_count": 42,
     "metadata": {},
     "output_type": "execute_result"
    }
   ],
   "source": [
    "print()"
   ]
  },
  {
   "cell_type": "markdown",
   "id": "a6942788-440b-4b66-82a0-7885cbabdd33",
   "metadata": {},
   "source": [
    "## ord will tell us about the ram location \n",
    "## id will tell the ascii  value \n"
   ]
  },
  {
   "cell_type": "code",
   "execution_count": null,
   "id": "0d7232dd-6ff4-4c9f-b625-dba4bcccc380",
   "metadata": {},
   "outputs": [],
   "source": []
  }
 ],
 "metadata": {
  "kernelspec": {
   "display_name": "Python 3 (ipykernel)",
   "language": "python",
   "name": "python3"
  },
  "language_info": {
   "codemirror_mode": {
    "name": "ipython",
    "version": 3
   },
   "file_extension": ".py",
   "mimetype": "text/x-python",
   "name": "python",
   "nbconvert_exporter": "python",
   "pygments_lexer": "ipython3",
   "version": "3.13.5"
  }
 },
 "nbformat": 4,
 "nbformat_minor": 5
}
