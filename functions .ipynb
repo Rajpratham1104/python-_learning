{
 "cells": [
  {
   "cell_type": "code",
   "execution_count": 4,
   "id": "5a0c189b-fcf2-416a-94bf-c1a7533f2057",
   "metadata": {},
   "outputs": [],
   "source": [
    "def square(n):\n",
    "    return n*n"
   ]
  },
  {
   "cell_type": "code",
   "execution_count": 5,
   "id": "be45dbaf-8b7d-40cf-9da5-9b8b98091e44",
   "metadata": {},
   "outputs": [],
   "source": [
    "l= [2,4,6]\n",
    "a=list(map(square, l))"
   ]
  },
  {
   "cell_type": "code",
   "execution_count": 6,
   "id": "7a4700fb-6a07-4a41-918c-63aadc820518",
   "metadata": {},
   "outputs": [
    {
     "data": {
      "text/plain": [
       "[4, 16, 36]"
      ]
     },
     "execution_count": 6,
     "metadata": {},
     "output_type": "execute_result"
    }
   ],
   "source": [
    "a"
   ]
  },
  {
   "cell_type": "code",
   "execution_count": 10,
   "id": "9ffc1377-e8b8-4345-9849-75b000c9ac92",
   "metadata": {},
   "outputs": [
    {
     "name": "stdout",
     "output_type": "stream",
     "text": [
      "s 1\n",
      "h 2\n",
      "u 3\n",
      "b 4\n",
      "h 5\n",
      "a 6\n",
      "m 7\n"
     ]
    }
   ],
   "source": [
    "for i , j in zip('shubham',\"1234567\"):\n",
    "    print(i,j)"
   ]
  },
  {
   "cell_type": "code",
   "execution_count": 11,
   "id": "e3d43ef9-e665-4917-8e3b-0284a4311f5a",
   "metadata": {},
   "outputs": [],
   "source": [
    "a=\"5,6,2,9,8\""
   ]
  },
  {
   "cell_type": "code",
   "execution_count": 14,
   "id": "e37baafb-bb75-48e1-bb90-851b7684423e",
   "metadata": {},
   "outputs": [],
   "source": [
    "a= a.split(\",\")"
   ]
  },
  {
   "cell_type": "code",
   "execution_count": 15,
   "id": "ab07a57f-2f46-4011-82b2-d1d2df1c8d38",
   "metadata": {},
   "outputs": [
    {
     "data": {
      "text/plain": [
       "['5', '6', '2', '9', '8']"
      ]
     },
     "execution_count": 15,
     "metadata": {},
     "output_type": "execute_result"
    }
   ],
   "source": [
    "a"
   ]
  },
  {
   "cell_type": "code",
   "execution_count": 16,
   "id": "1c457f02-c994-405c-9b27-2c9921bb76b3",
   "metadata": {},
   "outputs": [],
   "source": [
    "ans=list(map(int, a))"
   ]
  },
  {
   "cell_type": "code",
   "execution_count": 17,
   "id": "6f8381b0-ecff-4df1-a154-f9f46ef865ad",
   "metadata": {},
   "outputs": [
    {
     "data": {
      "text/plain": [
       "[5, 6, 2, 9, 8]"
      ]
     },
     "execution_count": 17,
     "metadata": {},
     "output_type": "execute_result"
    }
   ],
   "source": [
    "ans"
   ]
  },
  {
   "cell_type": "code",
   "execution_count": 20,
   "id": "28dd6250-eb38-4ad3-834b-c8fa6e84e88b",
   "metadata": {},
   "outputs": [
    {
     "data": {
      "text/plain": [
       "30"
      ]
     },
     "execution_count": 20,
     "metadata": {},
     "output_type": "execute_result"
    }
   ],
   "source": [
    "z=lambda x,y:x*y\n",
    "z(5,6)"
   ]
  },
  {
   "cell_type": "code",
   "execution_count": 22,
   "id": "1f395efe-4788-4fb7-9595-c938740d734c",
   "metadata": {},
   "outputs": [],
   "source": [
    "z= lambda x:x**3"
   ]
  },
  {
   "cell_type": "code",
   "execution_count": 23,
   "id": "e7fcc6b5-6620-4a51-a2b4-f4a0eff9c184",
   "metadata": {},
   "outputs": [
    {
     "data": {
      "text/plain": [
       "[125, 8, 27]"
      ]
     },
     "execution_count": 23,
     "metadata": {},
     "output_type": "execute_result"
    }
   ],
   "source": [
    "a=[5,2,3]\n",
    "list(map(z,a))"
   ]
  },
  {
   "cell_type": "code",
   "execution_count": null,
   "id": "63d4ea35-0561-4340-a543-ee929535c3bb",
   "metadata": {},
   "outputs": [],
   "source": []
  }
 ],
 "metadata": {
  "kernelspec": {
   "display_name": "Python 3 (ipykernel)",
   "language": "python",
   "name": "python3"
  },
  "language_info": {
   "codemirror_mode": {
    "name": "ipython",
    "version": 3
   },
   "file_extension": ".py",
   "mimetype": "text/x-python",
   "name": "python",
   "nbconvert_exporter": "python",
   "pygments_lexer": "ipython3",
   "version": "3.13.5"
  }
 },
 "nbformat": 4,
 "nbformat_minor": 5
}
