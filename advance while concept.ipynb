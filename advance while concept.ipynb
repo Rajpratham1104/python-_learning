{
 "cells": [
  {
   "cell_type": "code",
   "execution_count": 2,
   "id": "056fe2d3-db5e-4255-8e7f-71e056afada9",
   "metadata": {},
   "outputs": [
    {
     "name": "stdout",
     "output_type": "stream",
     "text": [
      "01234\n",
      "01234\n",
      "01234\n",
      "01234\n",
      "01234\n"
     ]
    }
   ],
   "source": [
    "#nested while concept\n",
    "i=0\n",
    "n=5\n",
    "while i<n:\n",
    "    j=0\n",
    "    m=5\n",
    "    while j<m:\n",
    "        print(j, end=\"\")\n",
    "        j+=1\n",
    "    print()\n",
    "    i+=1\n",
    "    "
   ]
  },
  {
   "cell_type": "code",
   "execution_count": 24,
   "id": "a644b6ce-5c1b-4a36-88fa-ba9082f80b3d",
   "metadata": {},
   "outputs": [
    {
     "name": "stdout",
     "output_type": "stream",
     "text": [
      "s h u b h a m \n",
      "a k a s h \n",
      "a b h i \n"
     ]
    }
   ],
   "source": [
    "l=[\"shubham\", \"akash\", \"abhi\"]\n",
    "i=0\n",
    "n=len(l)\n",
    "while i<n:\n",
    "    #print(l[i])\n",
    "    j=0\n",
    "    m= len(l[i])\n",
    "    while j<m:\n",
    "        print( l[i][j], end=\" \")\n",
    "        j+=1\n",
    "    print()\n",
    "    i+=1"
   ]
  },
  {
   "cell_type": "code",
   "execution_count": null,
   "id": "446b6021-7605-44f3-ab09-efd545399481",
   "metadata": {},
   "outputs": [],
   "source": []
  }
 ],
 "metadata": {
  "kernelspec": {
   "display_name": "Python 3 (ipykernel)",
   "language": "python",
   "name": "python3"
  },
  "language_info": {
   "codemirror_mode": {
    "name": "ipython",
    "version": 3
   },
   "file_extension": ".py",
   "mimetype": "text/x-python",
   "name": "python",
   "nbconvert_exporter": "python",
   "pygments_lexer": "ipython3",
   "version": "3.13.5"
  }
 },
 "nbformat": 4,
 "nbformat_minor": 5
}
