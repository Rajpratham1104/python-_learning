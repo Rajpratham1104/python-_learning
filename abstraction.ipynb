{
 "cells": [
  {
   "cell_type": "markdown",
   "id": "3c022ddb-44ef-40ea-8b84-6e1f41ff1f9c",
   "metadata": {},
   "source": [
    "## abstraction"
   ]
  },
  {
   "cell_type": "code",
   "execution_count": null,
   "id": "81ad713c-b2d8-4726-b73b-112eb097770e",
   "metadata": {},
   "outputs": [],
   "source": [
    "decorator changes functionality of either input, output or the function"
   ]
  }
 ],
 "metadata": {
  "kernelspec": {
   "display_name": "Python 3 (ipykernel)",
   "language": "python",
   "name": "python3"
  },
  "language_info": {
   "codemirror_mode": {
    "name": "ipython",
    "version": 3
   },
   "file_extension": ".py",
   "mimetype": "text/x-python",
   "name": "python",
   "nbconvert_exporter": "python",
   "pygments_lexer": "ipython3",
   "version": "3.13.5"
  }
 },
 "nbformat": 4,
 "nbformat_minor": 5
}
