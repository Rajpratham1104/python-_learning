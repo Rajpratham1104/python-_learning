{
 "cells": [
  {
   "cell_type": "code",
   "execution_count": 1,
   "id": "19a5cb2d-2158-453f-90b6-fddbc880f39a",
   "metadata": {},
   "outputs": [
    {
     "name": "stdout",
     "output_type": "stream",
     "text": [
      "p\n",
      "r\n",
      "a\n",
      "t\n",
      "h\n",
      "a\n",
      "m\n",
      " \n",
      "s\n",
      "i\n",
      "n\n",
      "g\n",
      "h\n"
     ]
    }
   ],
   "source": [
    "name =\"pratham singh\"\n",
    "for alphabet in name:\n",
    "    print(alphabet)"
   ]
  },
  {
   "cell_type": "code",
   "execution_count": 2,
   "id": "3b6f85d4-d1c6-4642-b7f3-27173ed0d2bb",
   "metadata": {},
   "outputs": [
    {
     "name": "stdout",
     "output_type": "stream",
     "text": [
      "tamatr\n",
      "pyaz\n",
      "aloo\n",
      "bhindi\n"
     ]
    }
   ],
   "source": [
    "parchi=['tamatr', 'pyaz','aloo','bhindi']\n",
    "\n",
    "for sabzi in parchi:\n",
    "    print(sabzi)"
   ]
  },
  {
   "cell_type": "code",
   "execution_count": 3,
   "id": "f7dd167a-f82f-4689-8fac-c1d9d8da9990",
   "metadata": {},
   "outputs": [
    {
     "name": "stdout",
     "output_type": "stream",
     "text": [
      "hello shubham\n",
      "hello akash\n",
      "hello abhishek\n",
      "hello chintu\n"
     ]
    }
   ],
   "source": [
    "course=[\"shubham\", \"akash\", \"abhishek\", \"chintu\"]\n",
    "for person in course:\n",
    "    print(\"hello\",person)"
   ]
  },
  {
   "cell_type": "code",
   "execution_count": 5,
   "id": "7016c814-26ed-4891-87e0-7ab30e6c719e",
   "metadata": {},
   "outputs": [
    {
     "name": "stdout",
     "output_type": "stream",
     "text": [
      "3\n",
      "5\n",
      "7\n",
      "8\n",
      "9\n"
     ]
    }
   ],
   "source": [
    "s={8,5,7,3,9}\n",
    "for i in s:\n",
    "    print(i)\n",
    "    "
   ]
  },
  {
   "cell_type": "code",
   "execution_count": 7,
   "id": "546821a4-09a7-454b-844d-ed3707335806",
   "metadata": {},
   "outputs": [
    {
     "name": "stdout",
     "output_type": "stream",
     "text": [
      "0\n",
      "5\n",
      "10\n",
      "15\n"
     ]
    }
   ],
   "source": [
    "i=0\n",
    "for i in range(0,20, 5):\n",
    "    print(i)\n"
   ]
  },
  {
   "cell_type": "code",
   "execution_count": 8,
   "id": "d9a8b541-33b8-4910-8d6e-5182b70d9972",
   "metadata": {},
   "outputs": [],
   "source": [
    "import random"
   ]
  },
  {
   "cell_type": "code",
   "execution_count": 11,
   "id": "efd9a626-6b69-4347-bc44-0072205d41c2",
   "metadata": {},
   "outputs": [
    {
     "data": {
      "text/plain": [
       "3"
      ]
     },
     "execution_count": 11,
     "metadata": {},
     "output_type": "execute_result"
    }
   ],
   "source": [
    "random.randint(1, 10)\n"
   ]
  },
  {
   "cell_type": "code",
   "execution_count": null,
   "id": "25972f21-ce6f-46a7-a1f8-30e6f8aaa428",
   "metadata": {},
   "outputs": [],
   "source": [
    "li=[]\n",
    "for i in range(15):\n",
    "    num= random.randint(1,10)\n",
    "    print(num, end=\" \")\n",
    "    "
   ]
  },
  {
   "cell_type": "code",
   "execution_count": null,
   "id": "0677a815-3eaf-4004-b853-438da1caa726",
   "metadata": {},
   "outputs": [],
   "source": []
  }
 ],
 "metadata": {
  "kernelspec": {
   "display_name": "Python 3 (ipykernel)",
   "language": "python",
   "name": "python3"
  },
  "language_info": {
   "codemirror_mode": {
    "name": "ipython",
    "version": 3
   },
   "file_extension": ".py",
   "mimetype": "text/x-python",
   "name": "python",
   "nbconvert_exporter": "python",
   "pygments_lexer": "ipython3",
   "version": "3.13.5"
  }
 },
 "nbformat": 4,
 "nbformat_minor": 5
}
