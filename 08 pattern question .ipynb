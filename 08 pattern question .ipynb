{
 "cells": [
  {
   "cell_type": "code",
   "execution_count": 2,
   "id": "affbbb06-4f70-465c-8573-d00ce89137df",
   "metadata": {},
   "outputs": [
    {
     "name": "stdout",
     "output_type": "stream",
     "text": [
      "01234\n",
      "01234\n",
      "01234\n",
      "01234\n",
      "01234\n"
     ]
    }
   ],
   "source": [
    "i=0\n",
    "n=5\n",
    "while i<n:\n",
    "    j=0\n",
    "    m=5\n",
    "    while j<m:\n",
    "        print(j, end=\"\")\n",
    "        j+=1\n",
    "    print()\n",
    "    i+=1"
   ]
  },
  {
   "cell_type": "code",
   "execution_count": 4,
   "id": "711b4585-ad89-4e18-9f22-e699ad8df546",
   "metadata": {},
   "outputs": [
    {
     "name": "stdout",
     "output_type": "stream",
     "text": [
      "\n",
      "0\n",
      "01\n",
      "012\n",
      "0123\n",
      "01234\n",
      "012345\n",
      "0123456\n"
     ]
    }
   ],
   "source": [
    "i=0\n",
    "n=8\n",
    "while i<n:\n",
    "    j=0\n",
    "    m=8\n",
    "    while j<i:\n",
    "        print(j, end=\"\")\n",
    "        j+=1\n",
    "    print()\n",
    "    i+=1"
   ]
  },
  {
   "cell_type": "code",
   "execution_count": 8,
   "id": "65dc9656-9532-4951-be0f-e7ee0c60e9b0",
   "metadata": {},
   "outputs": [
    {
     "name": "stdout",
     "output_type": "stream",
     "text": [
      "\n",
      "1\n",
      "22\n",
      "333\n",
      "4444\n"
     ]
    }
   ],
   "source": [
    "i=0\n",
    "n=5\n",
    "while i<n:\n",
    "    j=0\n",
    "    m=5\n",
    "    while j<i:\n",
    "        print(i, end=\"\")\n",
    "        j+=1\n",
    "    print()\n",
    "    i+=1"
   ]
  },
  {
   "cell_type": "code",
   "execution_count": 2,
   "id": "36ad3146-2846-4d65-9425-0e169219de39",
   "metadata": {},
   "outputs": [
    {
     "name": "stdout",
     "output_type": "stream",
     "text": [
      "\n",
      "0\n",
      "01\n",
      "012\n",
      "0123\n"
     ]
    }
   ],
   "source": [
    "i=0\n",
    "n=5\n",
    "while i<n:\n",
    "    j=0\n",
    "    m=5\n",
    "    while j<i:\n",
    "        print(j, end=\"\")\n",
    "        j+=1\n",
    "    print()\n",
    "    i+=1"
   ]
  },
  {
   "cell_type": "code",
   "execution_count": 9,
   "id": "10503f0f-9aa3-40da-84ba-91dcc31e39b4",
   "metadata": {},
   "outputs": [
    {
     "name": "stdout",
     "output_type": "stream",
     "text": [
      "*****\n",
      "****\n",
      "***\n",
      "**\n",
      "*\n"
     ]
    }
   ],
   "source": [
    "i=0\n",
    "n=5\n",
    "while i<n:\n",
    "    j=0\n",
    "    while j <n-i:\n",
    "        print(\"*\", end=\"\")\n",
    "        j+=1\n",
    "    print()\n",
    "    i+=1"
   ]
  },
  {
   "cell_type": "code",
   "execution_count": 4,
   "id": "a956ef66-4db6-4857-94ab-5e208ea21b0f",
   "metadata": {},
   "outputs": [
    {
     "name": "stdout",
     "output_type": "stream",
     "text": [
      "*****\n",
      "*   *\n",
      "*   *\n",
      "*   *\n",
      "*****\n"
     ]
    }
   ],
   "source": [
    "i=0\n",
    "n=5\n",
    "while i<n:\n",
    "    j=0\n",
    "    while j<n:\n",
    "        if i==0 or i==n-1 or j==0 or j==n-1:\n",
    "            print(\"*\", end=\"\")\n",
    "        else:\n",
    "            print(\" \", end=\"\")\n",
    "        j+=1\n",
    "    print()\n",
    "    i+=1"
   ]
  },
  {
   "cell_type": "code",
   "execution_count": 11,
   "id": "0e87ec30-6133-4d40-a433-c51175ed8435",
   "metadata": {},
   "outputs": [
    {
     "name": "stdout",
     "output_type": "stream",
     "text": [
      "*****\n",
      " *****\n",
      "  *****\n",
      "   *****\n",
      "    *****\n"
     ]
    }
   ],
   "source": [
    "i=0\n",
    "n=5\n",
    "while i<n:\n",
    "    k=0\n",
    "    while k<i:\n",
    "        print(\" \", end=\"\")\n",
    "        k+=1\n",
    "    j=0\n",
    "    while j<n:\n",
    "        print(\"*\", end=\"\")\n",
    "        j+=1\n",
    "    print()\n",
    "    i+=1"
   ]
  },
  {
   "cell_type": "code",
   "execution_count": 14,
   "id": "a8a4ab12-4bd1-4d44-a71f-121b74bfcd05",
   "metadata": {},
   "outputs": [
    {
     "name": "stdout",
     "output_type": "stream",
     "text": [
      "     *****\n",
      "    *****\n",
      "   *****\n",
      "  *****\n",
      " *****\n"
     ]
    }
   ],
   "source": [
    "i=0\n",
    "n=5\n",
    "while i<n:\n",
    "    k=0\n",
    "    while k<n-i:\n",
    "        print(\" \", end=\"\")\n",
    "        k+=1\n",
    "    j=0\n",
    "    while j<n:\n",
    "        print(\"*\", end=\"\")\n",
    "        j+=1\n",
    "    print()\n",
    "    i+=1"
   ]
  },
  {
   "cell_type": "code",
   "execution_count": 23,
   "id": "55ef0fb8-baaf-42f0-a9bd-7724c4de5d03",
   "metadata": {},
   "outputs": [
    {
     "name": "stdout",
     "output_type": "stream",
     "text": [
      "     * \n",
      "    * * \n",
      "   * * * \n",
      "  * * * * \n",
      " * * * * * \n"
     ]
    }
   ],
   "source": [
    "i=0\n",
    "n=5\n",
    "while i<n:\n",
    "    k=0\n",
    "    while k< n-i:\n",
    "        print(\" \", end=\"\")\n",
    "        k+=1\n",
    "    j=0\n",
    "    while j<i+1:\n",
    "        print(\"*\", end=\" \")\n",
    "        j+=1\n",
    "    print()\n",
    "    i+=1"
   ]
  },
  {
   "cell_type": "code",
   "execution_count": null,
   "id": "ea6eeca1-a0bb-4c73-b8c6-aa62f8b332ab",
   "metadata": {},
   "outputs": [],
   "source": [
    "i=0\n",
    "n=5\n",
    "while i<n:\n",
    "    k=0\n",
    "    while k< n-i:\n",
    "        print(\" \", end=\"\")\n",
    "        k+=1\n",
    "    j=0\n",
    "    while j<i*2-1:\n",
    "        print(\"*\", end=\"\")\n",
    "        j+=1\n",
    "    print()\n",
    "    i+=1"
   ]
  },
  {
   "cell_type": "code",
   "execution_count": null,
   "id": "5fae46b0-4294-4cd1-82da-3ef47bc1937d",
   "metadata": {},
   "outputs": [],
   "source": [
    "i=0\n",
    "n=5\n",
    "while i<n:\n",
    "    k=0\n",
    "    while k< n-i:\n",
    "        print(\"\", end=\"\")\n",
    "        k+=1\n",
    "    j=0\n",
    "    while j<i*2-1:\n",
    "        print(\"*\", end=\"\")\n",
    "        j+=1\n",
    "\n",
    "\n",
    "\n",
    "while i<n:\n",
    "    l=0\n",
    "    while l<n:\n",
    "        print(\"i\", end=\"\")\n",
    "        l+=1\n",
    "    m=0\n",
    "    while m<(n-i)*2-1:\n",
    "        print(\"*\",end=\"\")\n",
    "        m+=1\n",
    "        \n",
    "print()\n",
    "i+=1"
   ]
  },
  {
   "cell_type": "code",
   "execution_count": 33,
   "id": "9f4a1d96-96b3-4e43-b97a-8ba99c88282a",
   "metadata": {},
   "outputs": [
    {
     "name": "stdout",
     "output_type": "stream",
     "text": [
      "     \n",
      "    *\n",
      "   ***\n",
      "  *****\n",
      " *******\n"
     ]
    }
   ],
   "source": [
    "i=0\n",
    "n=5\n",
    "while i<n:\n",
    "    k=0\n",
    "    while k< n-i:\n",
    "        print(\" \", end=\"\")\n",
    "        k+=1\n",
    "    j=0\n",
    "    while j<i*2-1:\n",
    "        print(\"*\", end=\"\")\n",
    "        j+=1\n",
    "    print()\n",
    "    i+=1"
   ]
  },
  {
   "cell_type": "code",
   "execution_count": 5,
   "id": "50c0e659-9976-4887-87be-848d5b795081",
   "metadata": {},
   "outputs": [
    {
     "name": "stdout",
     "output_type": "stream",
     "text": [
      "     \n",
      "    *\n",
      "   ***\n",
      "  *****\n",
      " *******\n",
      "*********\n",
      " *******\n",
      "  *****\n",
      "   ***\n",
      "    *\n",
      "     \n",
      "      \n",
      "       \n",
      "        \n",
      "         \n"
     ]
    }
   ],
   "source": [
    "i=0\n",
    "n=5\n",
    "while i<n:\n",
    "    k=0\n",
    "    while k< n-i:\n",
    "        print(\"\", end=\" \")\n",
    "        k+=1\n",
    "    j=0\n",
    "    while j<i*2-1:\n",
    "        print(\"*\", end=\"\")\n",
    "        j+=1\n",
    "    print()\n",
    "    i+=1\n",
    "i=0\n",
    "n=10\n",
    "while i<n:\n",
    "    l=0\n",
    "    while l<i:\n",
    "        print(\"\",end=\" \")\n",
    "        l+=1\n",
    "    m=0\n",
    "    while m<n-i*2-1:\n",
    "        print(\"*\", end=\"\")\n",
    "        m+=1\n",
    "    print()\n",
    "    i+=1"
   ]
  },
  {
   "cell_type": "code",
   "execution_count": 3,
   "id": "4238f235-2bf0-482f-afcf-078427f0a8e9",
   "metadata": {},
   "outputs": [
    {
     "name": "stdout",
     "output_type": "stream",
     "text": [
      "*****0****1***2**3*4"
     ]
    }
   ],
   "source": [
    "i=0\n",
    "n=5\n",
    "while i<n:\n",
    "    k=0\n",
    "    while k<n-i:\n",
    "        print(\"*\",end=\"\")\n",
    "        k+=1\n",
    "    print(i, end=\"\")\n",
    "    i+=1"
   ]
  },
  {
   "cell_type": "code",
   "execution_count": 6,
   "id": "c977abca-cd7b-46fa-80c4-a11e88cde201",
   "metadata": {},
   "outputs": [
    {
     "name": "stdout",
     "output_type": "stream",
     "text": [
      "     \n",
      "    *\n",
      "   ***\n",
      "  *****\n",
      " *******\n"
     ]
    }
   ],
   "source": [
    "i=0\n",
    "n=5\n",
    "while i<n:\n",
    "    k=0\n",
    "    while k< n-i:\n",
    "        print(\"\", end=\" \")\n",
    "        k+=1\n",
    "    j=0\n",
    "    while j<i*2-1:\n",
    "        print(\"*\", end=\"\")\n",
    "        j+=1\n",
    "    print()\n",
    "    i+=1"
   ]
  },
  {
   "cell_type": "code",
   "execution_count": 7,
   "id": "40cb6f68-ea3c-416a-9733-e9b687b6a55c",
   "metadata": {},
   "outputs": [],
   "source": [
    "fruit=[]\n",
    "fruit.append(\"apple\")"
   ]
  },
  {
   "cell_type": "code",
   "execution_count": 8,
   "id": "dfd7473d-f7ae-48dc-b23b-6a547686fe99",
   "metadata": {},
   "outputs": [
    {
     "data": {
      "text/plain": [
       "['apple']"
      ]
     },
     "execution_count": 8,
     "metadata": {},
     "output_type": "execute_result"
    }
   ],
   "source": [
    "fruit"
   ]
  },
  {
   "cell_type": "code",
   "execution_count": 9,
   "id": "80d329f3-28aa-4e3e-b3eb-7513c2ea9d8d",
   "metadata": {},
   "outputs": [],
   "source": [
    "fruit.append(\"apple\")"
   ]
  },
  {
   "cell_type": "code",
   "execution_count": 10,
   "id": "fde99555-cda7-4562-8c3f-2f1f9124290e",
   "metadata": {},
   "outputs": [
    {
     "data": {
      "text/plain": [
       "['apple', 'apple']"
      ]
     },
     "execution_count": 10,
     "metadata": {},
     "output_type": "execute_result"
    }
   ],
   "source": [
    "fruit"
   ]
  },
  {
   "cell_type": "code",
   "execution_count": null,
   "id": "377fa984-116b-45ad-92dc-cb764a3e526c",
   "metadata": {},
   "outputs": [],
   "source": []
  }
 ],
 "metadata": {
  "kernelspec": {
   "display_name": "Python 3 (ipykernel)",
   "language": "python",
   "name": "python3"
  },
  "language_info": {
   "codemirror_mode": {
    "name": "ipython",
    "version": 3
   },
   "file_extension": ".py",
   "mimetype": "text/x-python",
   "name": "python",
   "nbconvert_exporter": "python",
   "pygments_lexer": "ipython3",
   "version": "3.13.5"
  }
 },
 "nbformat": 4,
 "nbformat_minor": 5
}
